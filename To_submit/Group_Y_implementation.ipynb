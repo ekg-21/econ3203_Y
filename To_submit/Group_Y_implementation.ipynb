{
 "cells": [
  {
   "cell_type": "markdown",
   "metadata": {},
   "source": [
    "# Model Building\n",
    "To run the model, just clock `Run All` on the notebook. The test_MSE should be the printed result at the after cell 4."
   ]
  },
  {
   "cell_type": "code",
   "execution_count": 1,
   "metadata": {},
   "outputs": [],
   "source": [
    "import pandas as pd\n",
    "import numpy as np\n",
    "import matplotlib.pyplot as plt\n",
    "import seaborn as sns \n",
    "from statsmodels.formula.api import ols \n",
    "from statsmodels.graphics.gofplots import ProbPlot\n"
   ]
  },
  {
   "cell_type": "markdown",
   "metadata": {},
   "source": [
    "### Helper Functions\n",
    "\n"
   ]
  },
  {
   "cell_type": "code",
   "execution_count": 2,
   "metadata": {},
   "outputs": [],
   "source": [
    "# Compute MSEs\n",
    "def comp_mse(model, temp_data):\n",
    "    predictions = model.predict(temp_data)\n",
    "    mse_test = np.mean((temp_data['Withdraw']-predictions)**2)    \n",
    "    return mse_test\n",
    "\n",
    "# Perform Preprocessing feature engineering\n",
    "def Preprocess_data(X):\n",
    "    X_temp = X.drop(columns=['Downtown']).mul(X['Downtown'], axis=0).rename(columns={'Shops': \"Shops_DT\", 'ATMs': \"ATMs_DT\", 'Weekday': \"Weekday_DT\", 'Center': 'Center_DT', 'High': \"High_DT\"})  \n",
    "\n",
    "    X_temp['Downtown_NotWeekday_Center'] = X['Downtown'] * (1 - X['Weekday'] ) * X['Center']\n",
    "    X_temp[\"Shops_DWC\"] = X_temp['Downtown_NotWeekday_Center'] * X['Shops'] \n",
    "    \n",
    "    return pd.concat([X_temp,X], axis=1)"
   ]
  },
  {
   "cell_type": "markdown",
   "metadata": {},
   "source": [
    "### Read and Perform Preprocessing on the Data "
   ]
  },
  {
   "cell_type": "code",
   "execution_count": 3,
   "metadata": {},
   "outputs": [],
   "source": [
    "# Read the data\n",
    "data = pd.read_csv('ATM_sample.csv')\n",
    "ATM_test = pd.read_csv('ATM_test.csv') \n",
    "\n",
    "# Define target variable\n",
    "# Define the input variables\n",
    "y_train = data['Withdraw'] \n",
    "X_train = data.drop(columns=['Withdraw'])\n",
    "\n",
    "y_test = ATM_test['Withdraw'] \n",
    "X_test = ATM_test.drop(columns=['Withdraw'])\n",
    "\n",
    "# Preprocess the data\n",
    "X_train = Preprocess_data(X_train)\n",
    "X_test = Preprocess_data(X_test) \n",
    "\n",
    "train = pd.concat([X_train, y_train], axis = 1)\n",
    "test = pd.concat([X_test, y_test], axis = 1)"
   ]
  },
  {
   "cell_type": "markdown",
   "metadata": {},
   "source": [
    "### Build the Model and compute the test_MSE\n",
    " "
   ]
  },
  {
   "cell_type": "code",
   "execution_count": 4,
   "metadata": {},
   "outputs": [
    {
     "name": "stdout",
     "output_type": "stream",
     "text": [
      "Test MSE on ATMs_Test data: 0.2710619060994234\n"
     ]
    }
   ],
   "source": [
    "# Build and execute model\n",
    "formula = \"Withdraw ~ Shops + ATMs + Downtown + Weekday + Center + High + Shops_DT + Weekday_DT + Center_DT + Shops_DWC\" \n",
    "model = ols(formula, data=train).fit()\n",
    "print(f\"Test MSE on ATMs_Test data: {comp_mse(model, test)}\")"
   ]
  },
  {
   "cell_type": "code",
   "execution_count": 5,
   "metadata": {},
   "outputs": [
    {
     "data": {
      "text/html": [
       "<table class=\"simpletable\">\n",
       "<caption>OLS Regression Results</caption>\n",
       "<tr>\n",
       "  <th>Dep. Variable:</th>        <td>Withdraw</td>     <th>  R-squared:         </th> <td>   1.000</td> \n",
       "</tr>\n",
       "<tr>\n",
       "  <th>Model:</th>                   <td>OLS</td>       <th>  Adj. R-squared:    </th> <td>   1.000</td> \n",
       "</tr>\n",
       "<tr>\n",
       "  <th>Method:</th>             <td>Least Squares</td>  <th>  F-statistic:       </th> <td>5.108e+06</td>\n",
       "</tr>\n",
       "<tr>\n",
       "  <th>Date:</th>             <td>Thu, 07 Nov 2024</td> <th>  Prob (F-statistic):</th>  <td>  0.00</td>  \n",
       "</tr>\n",
       "<tr>\n",
       "  <th>Time:</th>                 <td>15:43:43</td>     <th>  Log-Likelihood:    </th> <td> -16857.</td> \n",
       "</tr>\n",
       "<tr>\n",
       "  <th>No. Observations:</th>      <td> 22000</td>      <th>  AIC:               </th> <td>3.374e+04</td>\n",
       "</tr>\n",
       "<tr>\n",
       "  <th>Df Residuals:</th>          <td> 21989</td>      <th>  BIC:               </th> <td>3.382e+04</td>\n",
       "</tr>\n",
       "<tr>\n",
       "  <th>Df Model:</th>              <td>    10</td>      <th>                     </th>     <td> </td>    \n",
       "</tr>\n",
       "<tr>\n",
       "  <th>Covariance Type:</th>      <td>nonrobust</td>    <th>                     </th>     <td> </td>    \n",
       "</tr>\n",
       "</table>\n",
       "<table class=\"simpletable\">\n",
       "<tr>\n",
       "       <td></td>         <th>coef</th>     <th>std err</th>      <th>t</th>      <th>P>|t|</th>  <th>[0.025</th>    <th>0.975]</th>  \n",
       "</tr>\n",
       "<tr>\n",
       "  <th>Intercept</th>  <td>   18.8478</td> <td>    0.128</td> <td>  147.204</td> <td> 0.000</td> <td>   18.597</td> <td>   19.099</td>\n",
       "</tr>\n",
       "<tr>\n",
       "  <th>Shops</th>      <td>    0.0182</td> <td>    0.001</td> <td>   14.325</td> <td> 0.000</td> <td>    0.016</td> <td>    0.021</td>\n",
       "</tr>\n",
       "<tr>\n",
       "  <th>ATMs</th>       <td>   -1.0002</td> <td>    0.002</td> <td> -508.916</td> <td> 0.000</td> <td>   -1.004</td> <td>   -0.996</td>\n",
       "</tr>\n",
       "<tr>\n",
       "  <th>Downtown</th>   <td>  -47.8601</td> <td>    0.244</td> <td> -196.119</td> <td> 0.000</td> <td>  -48.338</td> <td>  -47.382</td>\n",
       "</tr>\n",
       "<tr>\n",
       "  <th>Weekday</th>    <td>   -2.2209</td> <td>    0.014</td> <td> -157.390</td> <td> 0.000</td> <td>   -2.249</td> <td>   -2.193</td>\n",
       "</tr>\n",
       "<tr>\n",
       "  <th>Center</th>     <td>    3.5883</td> <td>    0.021</td> <td>  169.201</td> <td> 0.000</td> <td>    3.547</td> <td>    3.630</td>\n",
       "</tr>\n",
       "<tr>\n",
       "  <th>High</th>       <td>    0.9982</td> <td>    0.008</td> <td>  130.464</td> <td> 0.000</td> <td>    0.983</td> <td>    1.013</td>\n",
       "</tr>\n",
       "<tr>\n",
       "  <th>Shops_DT</th>   <td>    0.0918</td> <td>    0.001</td> <td>   71.130</td> <td> 0.000</td> <td>    0.089</td> <td>    0.094</td>\n",
       "</tr>\n",
       "<tr>\n",
       "  <th>Weekday_DT</th> <td>    0.2247</td> <td>    0.017</td> <td>   13.065</td> <td> 0.000</td> <td>    0.191</td> <td>    0.258</td>\n",
       "</tr>\n",
       "<tr>\n",
       "  <th>Center_DT</th>  <td>   -0.5838</td> <td>    0.027</td> <td>  -21.792</td> <td> 0.000</td> <td>   -0.636</td> <td>   -0.531</td>\n",
       "</tr>\n",
       "<tr>\n",
       "  <th>Shops_DWC</th>  <td>    0.0200</td> <td> 3.06e-05</td> <td>  653.222</td> <td> 0.000</td> <td>    0.020</td> <td>    0.020</td>\n",
       "</tr>\n",
       "</table>\n",
       "<table class=\"simpletable\">\n",
       "<tr>\n",
       "  <th>Omnibus:</th>       <td>79.112</td> <th>  Durbin-Watson:     </th> <td>   1.998</td>\n",
       "</tr>\n",
       "<tr>\n",
       "  <th>Prob(Omnibus):</th> <td> 0.000</td> <th>  Jarque-Bera (JB):  </th> <td>  85.711</td>\n",
       "</tr>\n",
       "<tr>\n",
       "  <th>Skew:</th>          <td> 0.114</td> <th>  Prob(JB):          </th> <td>2.44e-19</td>\n",
       "</tr>\n",
       "<tr>\n",
       "  <th>Kurtosis:</th>      <td> 3.204</td> <th>  Cond. No.          </th> <td>8.61e+04</td>\n",
       "</tr>\n",
       "</table><br/><br/>Notes:<br/>[1] Standard Errors assume that the covariance matrix of the errors is correctly specified.<br/>[2] The condition number is large, 8.61e+04. This might indicate that there are<br/>strong multicollinearity or other numerical problems."
      ],
      "text/latex": [
       "\\begin{center}\n",
       "\\begin{tabular}{lclc}\n",
       "\\toprule\n",
       "\\textbf{Dep. Variable:}    &     Withdraw     & \\textbf{  R-squared:         } &     1.000   \\\\\n",
       "\\textbf{Model:}            &       OLS        & \\textbf{  Adj. R-squared:    } &     1.000   \\\\\n",
       "\\textbf{Method:}           &  Least Squares   & \\textbf{  F-statistic:       } & 5.108e+06   \\\\\n",
       "\\textbf{Date:}             & Thu, 07 Nov 2024 & \\textbf{  Prob (F-statistic):} &     0.00    \\\\\n",
       "\\textbf{Time:}             &     15:43:43     & \\textbf{  Log-Likelihood:    } &   -16857.   \\\\\n",
       "\\textbf{No. Observations:} &       22000      & \\textbf{  AIC:               } & 3.374e+04   \\\\\n",
       "\\textbf{Df Residuals:}     &       21989      & \\textbf{  BIC:               } & 3.382e+04   \\\\\n",
       "\\textbf{Df Model:}         &          10      & \\textbf{                     } &             \\\\\n",
       "\\textbf{Covariance Type:}  &    nonrobust     & \\textbf{                     } &             \\\\\n",
       "\\bottomrule\n",
       "\\end{tabular}\n",
       "\\begin{tabular}{lcccccc}\n",
       "                     & \\textbf{coef} & \\textbf{std err} & \\textbf{t} & \\textbf{P$> |$t$|$} & \\textbf{[0.025} & \\textbf{0.975]}  \\\\\n",
       "\\midrule\n",
       "\\textbf{Intercept}   &      18.8478  &        0.128     &   147.204  &         0.000        &       18.597    &       19.099     \\\\\n",
       "\\textbf{Shops}       &       0.0182  &        0.001     &    14.325  &         0.000        &        0.016    &        0.021     \\\\\n",
       "\\textbf{ATMs}        &      -1.0002  &        0.002     &  -508.916  &         0.000        &       -1.004    &       -0.996     \\\\\n",
       "\\textbf{Downtown}    &     -47.8601  &        0.244     &  -196.119  &         0.000        &      -48.338    &      -47.382     \\\\\n",
       "\\textbf{Weekday}     &      -2.2209  &        0.014     &  -157.390  &         0.000        &       -2.249    &       -2.193     \\\\\n",
       "\\textbf{Center}      &       3.5883  &        0.021     &   169.201  &         0.000        &        3.547    &        3.630     \\\\\n",
       "\\textbf{High}        &       0.9982  &        0.008     &   130.464  &         0.000        &        0.983    &        1.013     \\\\\n",
       "\\textbf{Shops\\_DT}   &       0.0918  &        0.001     &    71.130  &         0.000        &        0.089    &        0.094     \\\\\n",
       "\\textbf{Weekday\\_DT} &       0.2247  &        0.017     &    13.065  &         0.000        &        0.191    &        0.258     \\\\\n",
       "\\textbf{Center\\_DT}  &      -0.5838  &        0.027     &   -21.792  &         0.000        &       -0.636    &       -0.531     \\\\\n",
       "\\textbf{Shops\\_DWC}  &       0.0200  &     3.06e-05     &   653.222  &         0.000        &        0.020    &        0.020     \\\\\n",
       "\\bottomrule\n",
       "\\end{tabular}\n",
       "\\begin{tabular}{lclc}\n",
       "\\textbf{Omnibus:}       & 79.112 & \\textbf{  Durbin-Watson:     } &    1.998  \\\\\n",
       "\\textbf{Prob(Omnibus):} &  0.000 & \\textbf{  Jarque-Bera (JB):  } &   85.711  \\\\\n",
       "\\textbf{Skew:}          &  0.114 & \\textbf{  Prob(JB):          } & 2.44e-19  \\\\\n",
       "\\textbf{Kurtosis:}      &  3.204 & \\textbf{  Cond. No.          } & 8.61e+04  \\\\\n",
       "\\bottomrule\n",
       "\\end{tabular}\n",
       "%\\caption{OLS Regression Results}\n",
       "\\end{center}\n",
       "\n",
       "Notes: \\newline\n",
       " [1] Standard Errors assume that the covariance matrix of the errors is correctly specified. \\newline\n",
       " [2] The condition number is large, 8.61e+04. This might indicate that there are \\newline\n",
       " strong multicollinearity or other numerical problems."
      ],
      "text/plain": [
       "<class 'statsmodels.iolib.summary.Summary'>\n",
       "\"\"\"\n",
       "                            OLS Regression Results                            \n",
       "==============================================================================\n",
       "Dep. Variable:               Withdraw   R-squared:                       1.000\n",
       "Model:                            OLS   Adj. R-squared:                  1.000\n",
       "Method:                 Least Squares   F-statistic:                 5.108e+06\n",
       "Date:                Thu, 07 Nov 2024   Prob (F-statistic):               0.00\n",
       "Time:                        15:43:43   Log-Likelihood:                -16857.\n",
       "No. Observations:               22000   AIC:                         3.374e+04\n",
       "Df Residuals:                   21989   BIC:                         3.382e+04\n",
       "Df Model:                          10                                         \n",
       "Covariance Type:            nonrobust                                         \n",
       "==============================================================================\n",
       "                 coef    std err          t      P>|t|      [0.025      0.975]\n",
       "------------------------------------------------------------------------------\n",
       "Intercept     18.8478      0.128    147.204      0.000      18.597      19.099\n",
       "Shops          0.0182      0.001     14.325      0.000       0.016       0.021\n",
       "ATMs          -1.0002      0.002   -508.916      0.000      -1.004      -0.996\n",
       "Downtown     -47.8601      0.244   -196.119      0.000     -48.338     -47.382\n",
       "Weekday       -2.2209      0.014   -157.390      0.000      -2.249      -2.193\n",
       "Center         3.5883      0.021    169.201      0.000       3.547       3.630\n",
       "High           0.9982      0.008    130.464      0.000       0.983       1.013\n",
       "Shops_DT       0.0918      0.001     71.130      0.000       0.089       0.094\n",
       "Weekday_DT     0.2247      0.017     13.065      0.000       0.191       0.258\n",
       "Center_DT     -0.5838      0.027    -21.792      0.000      -0.636      -0.531\n",
       "Shops_DWC      0.0200   3.06e-05    653.222      0.000       0.020       0.020\n",
       "==============================================================================\n",
       "Omnibus:                       79.112   Durbin-Watson:                   1.998\n",
       "Prob(Omnibus):                  0.000   Jarque-Bera (JB):               85.711\n",
       "Skew:                           0.114   Prob(JB):                     2.44e-19\n",
       "Kurtosis:                       3.204   Cond. No.                     8.61e+04\n",
       "==============================================================================\n",
       "\n",
       "Notes:\n",
       "[1] Standard Errors assume that the covariance matrix of the errors is correctly specified.\n",
       "[2] The condition number is large, 8.61e+04. This might indicate that there are\n",
       "strong multicollinearity or other numerical problems.\n",
       "\"\"\""
      ]
     },
     "execution_count": 5,
     "metadata": {},
     "output_type": "execute_result"
    }
   ],
   "source": [
    "model.summary()"
   ]
  }
 ],
 "metadata": {
  "kernelspec": {
   "display_name": "base",
   "language": "python",
   "name": "python3"
  },
  "language_info": {
   "codemirror_mode": {
    "name": "ipython",
    "version": 3
   },
   "file_extension": ".py",
   "mimetype": "text/x-python",
   "name": "python",
   "nbconvert_exporter": "python",
   "pygments_lexer": "ipython3",
   "version": "3.12.4"
  }
 },
 "nbformat": 4,
 "nbformat_minor": 2
}
