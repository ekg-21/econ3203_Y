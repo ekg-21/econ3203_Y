{
 "cells": [
  {
   "cell_type": "markdown",
   "metadata": {},
   "source": [
    "# Plots\n",
    "\n",
    "Notebook to build plots for final report. No pressure to use this - just using it to make my life easier!"
   ]
  },
  {
   "cell_type": "code",
   "execution_count": 26,
   "metadata": {},
   "outputs": [
    {
     "name": "stdout",
     "output_type": "stream",
     "text": [
      "Test MSE on ATMs_Test data: 0.27106190609942343\n"
     ]
    }
   ],
   "source": [
    "import pandas as pd\n",
    "import numpy as np\n",
    "import os\n",
    "import matplotlib.pyplot as plt\n",
    "import seaborn as sns\n",
    "plt.rcParams[\"figure.figsize\"] = (5,3)\n",
    "\n",
    "%run ./Group_Y_implementation.ipynb"
   ]
  },
  {
   "cell_type": "code",
   "execution_count": 27,
   "metadata": {},
   "outputs": [],
   "source": [
    "'''\n",
    "Figure 1: Correlation heatmap\n",
    "'''\n",
    "fig_name = 'correlation_heatmap.jpg'\n",
    "\n",
    "fig, axes = plt.subplots(1,1, figsize=(7.8,6))\n",
    "sns.heatmap(ax=axes, data=atm.corr(), cmap='PiYG', center=0, annot=True, fmt='.2f')\n",
    "plt.suptitle('Figure 2.1: Correlation heatmap', fontweight='bold')\n",
    "plt.tight_layout()\n",
    "plt.savefig(f'../plots/{fig_name}')\n",
    "plt.close(fig)\n",
    "# plt.show()"
   ]
  },
  {
   "cell_type": "code",
   "execution_count": 28,
   "metadata": {},
   "outputs": [],
   "source": [
    "'''\n",
    "Figure 2: Correlation heatmap split by downtown\n",
    "'''\n",
    "fig_name = 'correlation_heatmap_by_downtown.jpg'\n",
    "\n",
    "uptown = atm[atm['Downtown'] == 0].drop(columns=['Downtown'], axis=1)\n",
    "downtown = atm[atm['Downtown'] == 1].drop(columns=['Downtown'], axis=1)\n",
    "\n",
    "fig, (ax1, ax2) = plt.subplots(1,2, figsize=(12,5.25) ,sharey=True, sharex=True)\n",
    "# ax1.get_shared_y_axes()\n",
    "sns.heatmap(ax=ax1, data=uptown.corr(), cmap='PiYG', center=0, annot=True, fmt='.2f')\n",
    "ax1.set_title('Downtown = 0')\n",
    "sns.heatmap(ax=ax2, data=downtown.corr(), cmap='PiYG', center=0, annot=True, fmt='.2f')\n",
    "ax2.set_title('Downtown = 1')\n",
    "plt.suptitle('Figure 2.2: Correlation heatmap split by Downtown', fontweight='bold')\n",
    "plt.tight_layout()\n",
    "plt.savefig(f'../plots/{fig_name}')\n",
    "plt.close(fig)\n",
    "# plt.show()"
   ]
  },
  {
   "cell_type": "code",
   "execution_count": 6,
   "metadata": {},
   "outputs": [],
   "source": [
    "'''\n",
    "Figure 3: Withdraw by Shops\n",
    "'''\n",
    "fig_name = 'withdraw_by_shops.jpg'\n",
    "\n",
    "fig, axes = plt.subplots(1,1, figsize=(6,4.5))\n",
    "sns.scatterplot(axes=axes, x='Shops', y='Withdraw', data=atm)\n",
    "\n",
    "# Set titles\n",
    "axes.set_xlabel('Shops')\n",
    "axes.set_ylabel('Withdraw')\n",
    "plt.suptitle('Figure 2.3: Withdraw by Shops', fontweight='bold')\n",
    "\n",
    "plt.tight_layout()\n",
    "plt.savefig(f'../plots/{fig_name}')\n",
    "plt.close(fig)\n",
    "# plt.show()"
   ]
  },
  {
   "cell_type": "code",
   "execution_count": 7,
   "metadata": {},
   "outputs": [],
   "source": [
    "\"\"\"\n",
    "Figure 4: Withdraw by Shops, coloured by Downtown\n",
    "\"\"\"\n",
    "fig_name = 'withdraw_by_shops_coloured.jpg'\n",
    "\n",
    "fig, axes = plt.subplots(1,1, figsize=(6,4.5))\n",
    "sns.scatterplot(axes=axes, x='Shops', y='Withdraw', hue='Downtown', data=atm)\n",
    "\n",
    "# Set titles\n",
    "axes.set_xlabel('Shops')\n",
    "axes.set_ylabel('Withdraw')\n",
    "plt.suptitle('Figure 2.4: Withdraw by Shops, coloured by Downtown', fontweight='bold')\n",
    "\n",
    "plt.tight_layout()\n",
    "plt.savefig(f'../plots/{fig_name}')\n",
    "plt.close(fig)\n",
    "# plt.show()"
   ]
  },
  {
   "cell_type": "code",
   "execution_count": 8,
   "metadata": {},
   "outputs": [],
   "source": [
    "\"\"\"\n",
    "Figure 5: Withdraw by Shops, coloured by Downtown\n",
    "\"\"\"\n",
    "fig_name = 'deciding_cutoff.jpg'\n",
    "\n",
    "fig, axes = plt.subplots(1,2, figsize=(12,4.5))\n",
    "\n",
    "# Histogram\n",
    "sns.histplot(ax=axes[0], data=atm['Withdraw'], discrete=True)\n",
    "axes[0].axvline(x=86, c='red')\n",
    "axes[0].set_xlabel('Withdraw')\n",
    "axes[0].set_ylabel('Number of rows')\n",
    "axes[0].set_xticks([20,40,60,80,86,100])\n",
    "axes[0].set_title('Histogram of Withdraw')\n",
    "\n",
    "# Scatterplot\n",
    "sns.scatterplot(axes=axes[1], x='Shops', y='Withdraw', data=atm)\n",
    "axes[1].axhline(y=86, c='red')\n",
    "\n",
    "## Set titles\n",
    "axes[1].set_xlabel('Shops')\n",
    "axes[1].set_ylabel('Withdraw')\n",
    "axes[1].set_yticks([20,40,60,80,86,100])\n",
    "axes[1].set_title('Withdraw by Shops')\n",
    "fig.suptitle('Figure 2.5: Deciding cut-off of Withdraw = 86', fontweight='bold')\n",
    "\n",
    "plt.tight_layout()\n",
    "plt.savefig(f'../plots/{fig_name}')\n",
    "plt.close(fig)\n",
    "# plt.show()"
   ]
  },
  {
   "cell_type": "code",
   "execution_count": 9,
   "metadata": {},
   "outputs": [
    {
     "name": "stdout",
     "output_type": "stream",
     "text": [
      "455\n",
      "452\n"
     ]
    }
   ],
   "source": [
    "print(len(atm[(atm.Weekday == 0) & (atm.Center == 1) & (atm.Downtown == 1)]))\n",
    "print(len(atm[(atm.Withdraw > 86)]))"
   ]
  },
  {
   "cell_type": "code",
   "execution_count": 23,
   "metadata": {},
   "outputs": [],
   "source": [
    "\"\"\"\n",
    "Figure 6: Histograms of Weekday, Center and High for group\\nwith high Withdraw amounts (Withdraw > 86)\n",
    "\"\"\"\n",
    "fig_name = 'weekday_center_high_hists.jpg'\n",
    "\n",
    "high_withdraw = atm[atm['Withdraw'] > 86].copy()\n",
    "fig, axes = plt.subplots(1,3, figsize=(6,4.5), sharey=True)\n",
    "fig.suptitle('Figure 2.6: Histograms of Weekday, Center and High for\\ngroup with high Withdraw amounts (Withdraw > 86)', fontweight='bold')\n",
    "\n",
    "sns.histplot(ax=axes[0], data=high_withdraw['Weekday'], discrete=True)\n",
    "axes[0].set_xlabel('Values of Weekday')\n",
    "axes[0].set_ylabel('Number of rows')\n",
    "axes[0].set_xticks([0])\n",
    "\n",
    "sns.histplot(ax=axes[1], data=high_withdraw['Center'], discrete=True)\n",
    "axes[1].set_xlabel('Values of Center')\n",
    "axes[1].set_ylabel('Number of rows')\n",
    "axes[1].set_xticks([1])\n",
    "\n",
    "sns.histplot(ax=axes[2], data=high_withdraw['High'], discrete=True)\n",
    "axes[2].set_xlabel('Values of High')\n",
    "axes[2].set_ylabel('Number of rows')\n",
    "axes[2].set_xticks([0,1])\n",
    "\n",
    "plt.tight_layout()\n",
    "plt.savefig(f'../plots/{fig_name}')\n",
    "plt.close(fig)\n",
    "# plt.show()"
   ]
  },
  {
   "cell_type": "code",
   "execution_count": 11,
   "metadata": {},
   "outputs": [],
   "source": [
    "\"\"\"\n",
    "Figure 7: Withdraw by Shops, coloured by cluster rules\n",
    "\"\"\"\n",
    "fig_name = 'withdraw_by_shops_coloured_2.jpg'\n",
    "\n",
    "fig, axes = plt.subplots(1,1, figsize=(6,4.5))\n",
    "atm[''] = np.where((atm['Downtown'] == 0), 'Downtown = 0', np.where((atm['Downtown'] == 1) & (atm['Weekday'] == 0) & (atm['Center'] == 1), 'Downtown = 1\\n& Weekday = 0\\n& Center = 1', 'Downtown = 1'))\n",
    "sns.scatterplot(axes=axes, x='Shops', y='Withdraw', hue='', data=atm)\n",
    "\n",
    "# Set titles\n",
    "axes.set_xlabel('Shops')\n",
    "axes.set_ylabel('Withdraw')\n",
    "fig.suptitle('Figure 2.7: Withdraw by Shops, coloured by cluster rules', fontweight='bold')\n",
    "\n",
    "plt.tight_layout()\n",
    "plt.savefig(f'../plots/{fig_name}')\n",
    "plt.close(fig)\n",
    "# plt.show()"
   ]
  },
  {
   "cell_type": "code",
   "execution_count": 12,
   "metadata": {},
   "outputs": [
    {
     "data": {
      "text/plain": [
       "Index(['Shops', 'ATMs', 'Downtown', 'Weekday', 'Center', 'High', 'Withdraw',\n",
       "       ''],\n",
       "      dtype='object')"
      ]
     },
     "execution_count": 12,
     "metadata": {},
     "output_type": "execute_result"
    }
   ],
   "source": [
    "atm.columns"
   ]
  },
  {
   "cell_type": "code",
   "execution_count": 13,
   "metadata": {},
   "outputs": [],
   "source": [
    "\"\"\"\n",
    "Figure 8: Withdraw by other variables, coloured by cluster rules\n",
    "\"\"\"\n",
    "fig_name = 'withdraw_by_other_vars_coloured.jpg'\n",
    "\n",
    "fig, axes = plt.subplots(1,4, figsize=(12,3.5), sharey=True)\n",
    "atm[''] = np.where((atm['Downtown'] == 0), 'Downtown = 0', np.where((atm['Downtown'] == 1) & (atm['Weekday'] == 0) & (atm['Center'] == 1), 'Downtown = 1\\n& Weekday = 0\\n& Center = 1', 'Downtown = 1'))\n",
    "\n",
    "sns.scatterplot(ax=axes[0], x='ATMs', y='Withdraw', hue='', data=atm)\n",
    "sns.scatterplot(ax=axes[1], x='Weekday', y='Withdraw', hue='', data=atm)\n",
    "sns.scatterplot(ax=axes[2], x='Center', y='Withdraw', hue='', data=atm)\n",
    "sns.scatterplot(ax=axes[3], x='High', y='Withdraw', hue='', data=atm)\n",
    "\n",
    "# Set titles\n",
    "axes[0].set_xlabel('ATMs')\n",
    "axes[1].set_xlabel('Weekday')\n",
    "axes[2].set_xlabel('Center')\n",
    "axes[3].set_xlabel('High')\n",
    "\n",
    "axes[0].set_ylabel('Withdraw')\n",
    "\n",
    "axes[0].get_legend().remove()\n",
    "axes[2].get_legend().remove()\n",
    "axes[3].get_legend().remove()\n",
    "\n",
    "fig.suptitle('Figure 2.8: Withdraw by other variables, coloured by cluster rules', fontweight='bold')\n",
    "\n",
    "plt.tight_layout()\n",
    "plt.savefig(f'../plots/{fig_name}')\n",
    "plt.close(fig)\n",
    "# plt.show()"
   ]
  },
  {
   "cell_type": "code",
   "execution_count": 14,
   "metadata": {},
   "outputs": [],
   "source": [
    "\"\"\"\n",
    "Figure 9: withdraw_by_shops_with_model_lines\n",
    "\"\"\"\n",
    "\n",
    "coeffs= [\n",
    "        18.815099198449325,\n",
    "        0.09162183145755232,\n",
    "        0.22452714168222548,\n",
    "        -0.5775168407592518,\n",
    "        0.019967557090320175,\n",
    "        0.018493494302836314,\n",
    "        -1.0005426733632976,\n",
    "        -47.89667724968706,\n",
    "        -2.217805614951019,\n",
    "        3.5912300495595857,\n",
    "        1.002023243775274\n",
    "]\n",
    "\n",
    "def uptown_rule(coeffs, shops, averages):\n",
    "        return coeffs[0] + coeffs[5]*shops + coeffs[6]*averages['ATMs'] + coeffs[8]*averages['Weekday'] + coeffs[9]*averages['Center'] + coeffs[10]*averages['High']\n",
    "\n",
    "def downtown_low_rule(coeffs, shops, averages):\n",
    "        return coeffs[0] + coeffs[1]*shops + coeffs[5]*shops + coeffs[7] + coeffs[6]*averages['ATMs'] + coeffs[8]*averages['Weekday'] + coeffs[9]*averages['Center'] + coeffs[10]*averages['High']\n",
    "\n",
    "def downtown_high_rule(coeffs, shops, averages):\n",
    "        return coeffs[0] + coeffs[1]*shops + coeffs[3] + coeffs[4]*shops + coeffs[5]*shops + coeffs[7] + coeffs[9] + coeffs[6]*averages['ATMs'] + coeffs[10]*averages['High']\n",
    "\n",
    "formula = \"Withdraw ~ Shops_DT + Weekday__DT + Center_DT + Shops_DWC + Shops + ATMs + Downtown + Weekday + Center + High\" \n",
    "\n",
    "fig_name = 'withdraw_by_shops_coloured_3.jpg'\n",
    "\n",
    "fig, axes = plt.subplots(1,1, figsize=(6,4.5))\n",
    "atm[''] = np.where((atm['Downtown'] == 0), 'Downtown = 0', np.where((atm['Downtown'] == 1) & (atm['Weekday'] == 0) & (atm['Center'] == 1), 'Downtown = 1\\n& Weekday = 0\\n& Center = 1', 'Downtown = 1'))\n",
    "sns.scatterplot(axes=axes, x='Shops', y='Withdraw', hue='', data=atm)\n",
    "uptown_x = np.arange(50,150,0.1)\n",
    "downtown_x = np.arange(900,1100,0.1)\n",
    "\n",
    "# Get averages for uptown group\n",
    "uptown_averages = atm[atm[''] == 'Downtown = 0'][['ATMs', 'Weekday', 'Center', 'High']].mean()\n",
    "downtown_low_averages = atm[atm[''] == 'Downtown = 1'][['ATMs', 'Weekday', 'Center', 'High']].mean()\n",
    "downtown_high_averages = atm[atm[''] == 'Downtown = 1\\n& Weekday = 0\\n& Center = 1'][['ATMs', 'High']].mean()\n",
    "\n",
    "sns.lineplot(ax=axes, x=downtown_x, y=downtown_low_rule(coeffs, downtown_x, downtown_low_averages), color='k')\n",
    "sns.lineplot(ax=axes, x=uptown_x, y=uptown_rule(coeffs, uptown_x, uptown_averages), color='k')\n",
    "sns.lineplot(ax=axes, x=downtown_x, y=downtown_high_rule(coeffs, downtown_x, downtown_high_averages), color='k')\n",
    "\n",
    "# Set titles\n",
    "axes.set_xlabel('Shops')\n",
    "axes.set_ylabel('Withdraw')\n",
    "fig.suptitle('Figure 4.1: Withdraw by Shops, coloured by cluster\\nrules, with model trend line', fontweight='bold')\n",
    "\n",
    "plt.tight_layout()\n",
    "plt.savefig(f'../plots/{fig_name}')\n",
    "plt.close(fig)\n",
    "# plt.show()"
   ]
  },
  {
   "cell_type": "code",
   "execution_count": 35,
   "metadata": {},
   "outputs": [],
   "source": [
    "\"\"\"\n",
    "Figure 10: residuals v fitted\n",
    "\"\"\"\n",
    "\n",
    "fig_name = 'residuals_v_fitted.jpg'\n",
    "\n",
    "fig, axes = plt.subplots(1,1, figsize=(6,4.5))\n",
    "sns.scatterplot(ax=axes, y=model.resid, x=model.predict(train))\n",
    "\n",
    "axes.set_xlabel('Fitted values')\n",
    "axes.set_ylabel('Residuals') \n",
    "\n",
    "\n",
    "# Set titles\n",
    "fig.suptitle('Figure 4.2: Residuals v fitted values', fontweight='bold')\n",
    "\n",
    "plt.tight_layout()\n",
    "plt.savefig(f'../plots/{fig_name}')\n",
    "plt.close(fig)\n",
    "# plt.show()"
   ]
  },
  {
   "cell_type": "markdown",
   "metadata": {},
   "source": [
    "# Not used:"
   ]
  },
  {
   "cell_type": "code",
   "execution_count": null,
   "metadata": {},
   "outputs": [],
   "source": [
    "\"\"\"\n",
    "NOT USED: Atms by shops scatterplot coloured by withdraw\n",
    "\"\"\"\n",
    "\n",
    "fig_name = 'atms_by_shops_coloured.jpg'\n",
    "\n",
    "# Create logic for colorbar\n",
    "# See: https://stackoverflow.com/questions/49761221/make-seaborn-show-a-colorbar-instead-of-a-legend-when-using-hue-in-a-bar-plot/49772083#49772083\n",
    "cmap = sns.color_palette(\"flare\", as_cmap=True)\n",
    "norm = plt.Normalize(atm['Withdraw'].min(), atm['Withdraw'].max())\n",
    "sm = plt.cm.ScalarMappable(cmap=cmap, norm=norm)\n",
    "\n",
    "# Create plot\n",
    "fig, axes = plt.subplots(1,1, figsize=(8,6))\n",
    "sns.scatterplot(ax=axes, x='ATMs', y='Shops', data=atm, hue='Withdraw', palette = cmap)\n",
    "\n",
    "# Set titles\n",
    "axes.set_xlabel('Number of ATMs')\n",
    "axes.set_ylabel('Number of Shops')\n",
    "axes.set_title('Number of ATMs by number of shops, coloured by Withdraw')\n",
    "\n",
    "# Remove the legend and add a colorbar\n",
    "axes.get_legend().remove()\n",
    "axes.figure.colorbar(sm, ax=axes)\n",
    "\n",
    "plt.tight_layout()\n",
    "plt.savefig(f'../plots/{fig_name}')\n",
    "plt.close(fig)"
   ]
  }
 ],
 "metadata": {
  "kernelspec": {
   "display_name": "econ3203_1",
   "language": "python",
   "name": "python3"
  },
  "language_info": {
   "codemirror_mode": {
    "name": "ipython",
    "version": 3
   },
   "file_extension": ".py",
   "mimetype": "text/x-python",
   "name": "python",
   "nbconvert_exporter": "python",
   "pygments_lexer": "ipython3",
   "version": "3.12.7"
  }
 },
 "nbformat": 4,
 "nbformat_minor": 2
}
