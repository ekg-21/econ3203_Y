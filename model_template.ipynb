{
 "cells": [
  {
   "cell_type": "code",
   "execution_count": 86,
   "metadata": {},
   "outputs": [],
   "source": [
    "import pandas as pd\n",
    "import numpy as np\n",
    "import matplotlib.pyplot as plt\n",
    "import seaborn as sns\n",
    "import itertools\n",
    "import time\n",
    "from statsmodels.formula.api import ols\n",
    "from sklearn.preprocessing import StandardScaler \n",
    "from sklearn.model_selection import train_test_split\n"
   ]
  },
  {
   "cell_type": "markdown",
   "metadata": {},
   "source": [
    "## Helper functions!"
   ]
  },
  {
   "cell_type": "code",
   "execution_count": 87,
   "metadata": {},
   "outputs": [],
   "source": [
    "def run_model(input, y):\n",
    "    data = pd.concat([y,input], axis=1)\n",
    "    formula = f'Withdraw ~ {\" + \".join(input.columns)}'\n",
    "    print(formula)\n",
    "    model_full = ols(formula, data=data).fit()\n",
    "\n",
    "    return model_full\n",
    "\n",
    "# define function to compute test MSEs\n",
    "def comp_test_mse(model, temp_data):\n",
    "    predictions = model.predict(temp_data)\n",
    "    mse_test = np.mean((temp_data['Withdraw']-predictions)**2)    \n",
    "    return mse_test"
   ]
  },
  {
   "cell_type": "markdown",
   "metadata": {},
   "source": [
    "## Read the data"
   ]
  },
  {
   "cell_type": "code",
   "execution_count": 88,
   "metadata": {},
   "outputs": [
    {
     "data": {
      "text/plain": [
       "Index(['Shops', 'ATMs', 'Downtown', 'Weekday', 'Center', 'High'], dtype='object')"
      ]
     },
     "execution_count": 88,
     "metadata": {},
     "output_type": "execute_result"
    }
   ],
   "source": [
    "# Read the data\n",
    "data=pd.read_csv('ATM_sample.csv')\n",
    "data.head()\n",
    "\n",
    "# Define target variable\n",
    "y = data['Withdraw']\n",
    "\n",
    "# Define the input variables\n",
    "X = data.drop(columns=['Withdraw'])\n",
    "\n",
    "X.columns"
   ]
  },
  {
   "cell_type": "code",
   "execution_count": 89,
   "metadata": {},
   "outputs": [
    {
     "data": {
      "text/html": [
       "<div>\n",
       "<style scoped>\n",
       "    .dataframe tbody tr th:only-of-type {\n",
       "        vertical-align: middle;\n",
       "    }\n",
       "\n",
       "    .dataframe tbody tr th {\n",
       "        vertical-align: top;\n",
       "    }\n",
       "\n",
       "    .dataframe thead th {\n",
       "        text-align: right;\n",
       "    }\n",
       "</style>\n",
       "<table border=\"1\" class=\"dataframe\">\n",
       "  <thead>\n",
       "    <tr style=\"text-align: right;\">\n",
       "      <th></th>\n",
       "      <th>Shops</th>\n",
       "      <th>ATMs</th>\n",
       "      <th>Downtown</th>\n",
       "      <th>Weekday</th>\n",
       "      <th>Center</th>\n",
       "      <th>High</th>\n",
       "    </tr>\n",
       "  </thead>\n",
       "  <tbody>\n",
       "    <tr>\n",
       "      <th>0</th>\n",
       "      <td>0.695292</td>\n",
       "      <td>0.561492</td>\n",
       "      <td>1</td>\n",
       "      <td>0</td>\n",
       "      <td>0</td>\n",
       "      <td>0</td>\n",
       "    </tr>\n",
       "    <tr>\n",
       "      <th>1</th>\n",
       "      <td>0.588459</td>\n",
       "      <td>0.561492</td>\n",
       "      <td>1</td>\n",
       "      <td>1</td>\n",
       "      <td>0</td>\n",
       "      <td>0</td>\n",
       "    </tr>\n",
       "    <tr>\n",
       "      <th>2</th>\n",
       "      <td>-1.543334</td>\n",
       "      <td>-1.616368</td>\n",
       "      <td>0</td>\n",
       "      <td>0</td>\n",
       "      <td>0</td>\n",
       "      <td>1</td>\n",
       "    </tr>\n",
       "    <tr>\n",
       "      <th>3</th>\n",
       "      <td>0.549611</td>\n",
       "      <td>0.289259</td>\n",
       "      <td>1</td>\n",
       "      <td>1</td>\n",
       "      <td>0</td>\n",
       "      <td>1</td>\n",
       "    </tr>\n",
       "    <tr>\n",
       "      <th>4</th>\n",
       "      <td>-1.526338</td>\n",
       "      <td>-1.071903</td>\n",
       "      <td>0</td>\n",
       "      <td>1</td>\n",
       "      <td>0</td>\n",
       "      <td>1</td>\n",
       "    </tr>\n",
       "  </tbody>\n",
       "</table>\n",
       "</div>"
      ],
      "text/plain": [
       "      Shops      ATMs  Downtown  Weekday  Center  High\n",
       "0  0.695292  0.561492         1        0       0     0\n",
       "1  0.588459  0.561492         1        1       0     0\n",
       "2 -1.543334 -1.616368         0        0       0     1\n",
       "3  0.549611  0.289259         1        1       0     1\n",
       "4 -1.526338 -1.071903         0        1       0     1"
      ]
     },
     "execution_count": 89,
     "metadata": {},
     "output_type": "execute_result"
    }
   ],
   "source": [
    "# Standardise the continous data columns! \n",
    "columns_to_scale = ['ATMs', 'Shops']\n",
    "X[columns_to_scale] = StandardScaler().fit_transform(X[columns_to_scale])\n",
    "X.head()"
   ]
  },
  {
   "cell_type": "markdown",
   "metadata": {},
   "source": [
    "### Baseline Model for comparison"
   ]
  },
  {
   "cell_type": "code",
   "execution_count": 90,
   "metadata": {},
   "outputs": [
    {
     "name": "stdout",
     "output_type": "stream",
     "text": [
      "Withdraw ~ Shops + ATMs + Downtown + Weekday + Center + High\n"
     ]
    },
    {
     "data": {
      "text/html": [
       "<table class=\"simpletable\">\n",
       "<caption>OLS Regression Results</caption>\n",
       "<tr>\n",
       "  <th>Dep. Variable:</th>        <td>Withdraw</td>     <th>  R-squared:         </th> <td>   0.990</td> \n",
       "</tr>\n",
       "<tr>\n",
       "  <th>Model:</th>                   <td>OLS</td>       <th>  Adj. R-squared:    </th> <td>   0.990</td> \n",
       "</tr>\n",
       "<tr>\n",
       "  <th>Method:</th>             <td>Least Squares</td>  <th>  F-statistic:       </th> <td>3.656e+05</td>\n",
       "</tr>\n",
       "<tr>\n",
       "  <th>Date:</th>             <td>Sun, 27 Oct 2024</td> <th>  Prob (F-statistic):</th>  <td>  0.00</td>  \n",
       "</tr>\n",
       "<tr>\n",
       "  <th>Time:</th>                 <td>11:49:33</td>     <th>  Log-Likelihood:    </th> <td> -51380.</td> \n",
       "</tr>\n",
       "<tr>\n",
       "  <th>No. Observations:</th>      <td> 22000</td>      <th>  AIC:               </th> <td>1.028e+05</td>\n",
       "</tr>\n",
       "<tr>\n",
       "  <th>Df Residuals:</th>          <td> 21993</td>      <th>  BIC:               </th> <td>1.028e+05</td>\n",
       "</tr>\n",
       "<tr>\n",
       "  <th>Df Model:</th>              <td>     6</td>      <th>                     </th>     <td> </td>    \n",
       "</tr>\n",
       "<tr>\n",
       "  <th>Covariance Type:</th>      <td>nonrobust</td>    <th>                     </th>     <td> </td>    \n",
       "</tr>\n",
       "</table>\n",
       "<table class=\"simpletable\">\n",
       "<tr>\n",
       "      <td></td>         <th>coef</th>     <th>std err</th>      <th>t</th>      <th>P>|t|</th>  <th>[0.025</th>    <th>0.975]</th>  \n",
       "</tr>\n",
       "<tr>\n",
       "  <th>Intercept</th> <td>   81.5326</td> <td>    0.624</td> <td>  130.637</td> <td> 0.000</td> <td>   80.309</td> <td>   82.756</td>\n",
       "</tr>\n",
       "<tr>\n",
       "  <th>Shops</th>     <td>   44.5379</td> <td>    0.405</td> <td>  110.062</td> <td> 0.000</td> <td>   43.745</td> <td>   45.331</td>\n",
       "</tr>\n",
       "<tr>\n",
       "  <th>ATMs</th>      <td>   -3.7087</td> <td>    0.035</td> <td> -106.982</td> <td> 0.000</td> <td>   -3.777</td> <td>   -3.641</td>\n",
       "</tr>\n",
       "<tr>\n",
       "  <th>Downtown</th>  <td>  -36.1897</td> <td>    0.887</td> <td>  -40.781</td> <td> 0.000</td> <td>  -37.929</td> <td>  -34.450</td>\n",
       "</tr>\n",
       "<tr>\n",
       "  <th>Weekday</th>   <td>   -3.5011</td> <td>    0.037</td> <td>  -93.806</td> <td> 0.000</td> <td>   -3.574</td> <td>   -3.428</td>\n",
       "</tr>\n",
       "<tr>\n",
       "  <th>Center</th>    <td>    7.1931</td> <td>    0.056</td> <td>  129.352</td> <td> 0.000</td> <td>    7.084</td> <td>    7.302</td>\n",
       "</tr>\n",
       "<tr>\n",
       "  <th>High</th>      <td>    0.9566</td> <td>    0.037</td> <td>   26.035</td> <td> 0.000</td> <td>    0.885</td> <td>    1.029</td>\n",
       "</tr>\n",
       "</table>\n",
       "<table class=\"simpletable\">\n",
       "<tr>\n",
       "  <th>Omnibus:</th>       <td>17745.344</td> <th>  Durbin-Watson:     </th>  <td>   1.998</td> \n",
       "</tr>\n",
       "<tr>\n",
       "  <th>Prob(Omnibus):</th>  <td> 0.000</td>   <th>  Jarque-Bera (JB):  </th> <td>468940.833</td>\n",
       "</tr>\n",
       "<tr>\n",
       "  <th>Skew:</th>           <td> 3.781</td>   <th>  Prob(JB):          </th>  <td>    0.00</td> \n",
       "</tr>\n",
       "<tr>\n",
       "  <th>Kurtosis:</th>       <td>24.316</td>   <th>  Cond. No.          </th>  <td>    107.</td> \n",
       "</tr>\n",
       "</table><br/><br/>Notes:<br/>[1] Standard Errors assume that the covariance matrix of the errors is correctly specified."
      ],
      "text/latex": [
       "\\begin{center}\n",
       "\\begin{tabular}{lclc}\n",
       "\\toprule\n",
       "\\textbf{Dep. Variable:}    &     Withdraw     & \\textbf{  R-squared:         } &     0.990   \\\\\n",
       "\\textbf{Model:}            &       OLS        & \\textbf{  Adj. R-squared:    } &     0.990   \\\\\n",
       "\\textbf{Method:}           &  Least Squares   & \\textbf{  F-statistic:       } & 3.656e+05   \\\\\n",
       "\\textbf{Date:}             & Sun, 27 Oct 2024 & \\textbf{  Prob (F-statistic):} &     0.00    \\\\\n",
       "\\textbf{Time:}             &     11:49:33     & \\textbf{  Log-Likelihood:    } &   -51380.   \\\\\n",
       "\\textbf{No. Observations:} &       22000      & \\textbf{  AIC:               } & 1.028e+05   \\\\\n",
       "\\textbf{Df Residuals:}     &       21993      & \\textbf{  BIC:               } & 1.028e+05   \\\\\n",
       "\\textbf{Df Model:}         &           6      & \\textbf{                     } &             \\\\\n",
       "\\textbf{Covariance Type:}  &    nonrobust     & \\textbf{                     } &             \\\\\n",
       "\\bottomrule\n",
       "\\end{tabular}\n",
       "\\begin{tabular}{lcccccc}\n",
       "                   & \\textbf{coef} & \\textbf{std err} & \\textbf{t} & \\textbf{P$> |$t$|$} & \\textbf{[0.025} & \\textbf{0.975]}  \\\\\n",
       "\\midrule\n",
       "\\textbf{Intercept} &      81.5326  &        0.624     &   130.637  &         0.000        &       80.309    &       82.756     \\\\\n",
       "\\textbf{Shops}     &      44.5379  &        0.405     &   110.062  &         0.000        &       43.745    &       45.331     \\\\\n",
       "\\textbf{ATMs}      &      -3.7087  &        0.035     &  -106.982  &         0.000        &       -3.777    &       -3.641     \\\\\n",
       "\\textbf{Downtown}  &     -36.1897  &        0.887     &   -40.781  &         0.000        &      -37.929    &      -34.450     \\\\\n",
       "\\textbf{Weekday}   &      -3.5011  &        0.037     &   -93.806  &         0.000        &       -3.574    &       -3.428     \\\\\n",
       "\\textbf{Center}    &       7.1931  &        0.056     &   129.352  &         0.000        &        7.084    &        7.302     \\\\\n",
       "\\textbf{High}      &       0.9566  &        0.037     &    26.035  &         0.000        &        0.885    &        1.029     \\\\\n",
       "\\bottomrule\n",
       "\\end{tabular}\n",
       "\\begin{tabular}{lclc}\n",
       "\\textbf{Omnibus:}       & 17745.344 & \\textbf{  Durbin-Watson:     } &     1.998   \\\\\n",
       "\\textbf{Prob(Omnibus):} &    0.000  & \\textbf{  Jarque-Bera (JB):  } & 468940.833  \\\\\n",
       "\\textbf{Skew:}          &    3.781  & \\textbf{  Prob(JB):          } &      0.00   \\\\\n",
       "\\textbf{Kurtosis:}      &   24.316  & \\textbf{  Cond. No.          } &      107.   \\\\\n",
       "\\bottomrule\n",
       "\\end{tabular}\n",
       "%\\caption{OLS Regression Results}\n",
       "\\end{center}\n",
       "\n",
       "Notes: \\newline\n",
       " [1] Standard Errors assume that the covariance matrix of the errors is correctly specified."
      ],
      "text/plain": [
       "<class 'statsmodels.iolib.summary.Summary'>\n",
       "\"\"\"\n",
       "                            OLS Regression Results                            \n",
       "==============================================================================\n",
       "Dep. Variable:               Withdraw   R-squared:                       0.990\n",
       "Model:                            OLS   Adj. R-squared:                  0.990\n",
       "Method:                 Least Squares   F-statistic:                 3.656e+05\n",
       "Date:                Sun, 27 Oct 2024   Prob (F-statistic):               0.00\n",
       "Time:                        11:49:33   Log-Likelihood:                -51380.\n",
       "No. Observations:               22000   AIC:                         1.028e+05\n",
       "Df Residuals:                   21993   BIC:                         1.028e+05\n",
       "Df Model:                           6                                         \n",
       "Covariance Type:            nonrobust                                         \n",
       "==============================================================================\n",
       "                 coef    std err          t      P>|t|      [0.025      0.975]\n",
       "------------------------------------------------------------------------------\n",
       "Intercept     81.5326      0.624    130.637      0.000      80.309      82.756\n",
       "Shops         44.5379      0.405    110.062      0.000      43.745      45.331\n",
       "ATMs          -3.7087      0.035   -106.982      0.000      -3.777      -3.641\n",
       "Downtown     -36.1897      0.887    -40.781      0.000     -37.929     -34.450\n",
       "Weekday       -3.5011      0.037    -93.806      0.000      -3.574      -3.428\n",
       "Center         7.1931      0.056    129.352      0.000       7.084       7.302\n",
       "High           0.9566      0.037     26.035      0.000       0.885       1.029\n",
       "==============================================================================\n",
       "Omnibus:                    17745.344   Durbin-Watson:                   1.998\n",
       "Prob(Omnibus):                  0.000   Jarque-Bera (JB):           468940.833\n",
       "Skew:                           3.781   Prob(JB):                         0.00\n",
       "Kurtosis:                      24.316   Cond. No.                         107.\n",
       "==============================================================================\n",
       "\n",
       "Notes:\n",
       "[1] Standard Errors assume that the covariance matrix of the errors is correctly specified.\n",
       "\"\"\""
      ]
     },
     "execution_count": 90,
     "metadata": {},
     "output_type": "execute_result"
    }
   ],
   "source": [
    "model = run_model(X, y)\n",
    "model.summary()"
   ]
  },
  {
   "cell_type": "markdown",
   "metadata": {},
   "source": [
    "## Alter the input columns (X) as you see fit\n",
    "\n",
    "The following example adds combination variables split on downtown."
   ]
  },
  {
   "cell_type": "code",
   "execution_count": 91,
   "metadata": {},
   "outputs": [],
   "source": [
    "X_temp = X.drop(columns=['Downtown']).mul(X['Downtown'], axis=0).rename(columns={'Shops': \"Shops_DT\", 'ATMs': \"ATMs_DT\", 'Weekday': \"Weekday__DT\", 'Center': 'Center_DT', 'High': \"High_DT\"})  "
   ]
  },
  {
   "cell_type": "code",
   "execution_count": 92,
   "metadata": {},
   "outputs": [
    {
     "data": {
      "text/html": [
       "<div>\n",
       "<style scoped>\n",
       "    .dataframe tbody tr th:only-of-type {\n",
       "        vertical-align: middle;\n",
       "    }\n",
       "\n",
       "    .dataframe tbody tr th {\n",
       "        vertical-align: top;\n",
       "    }\n",
       "\n",
       "    .dataframe thead th {\n",
       "        text-align: right;\n",
       "    }\n",
       "</style>\n",
       "<table border=\"1\" class=\"dataframe\">\n",
       "  <thead>\n",
       "    <tr style=\"text-align: right;\">\n",
       "      <th></th>\n",
       "      <th>Shops_DT</th>\n",
       "      <th>ATMs_DT</th>\n",
       "      <th>Weekday__DT</th>\n",
       "      <th>Center_DT</th>\n",
       "      <th>High_DT</th>\n",
       "      <th>Shops</th>\n",
       "      <th>ATMs</th>\n",
       "      <th>Downtown</th>\n",
       "      <th>Weekday</th>\n",
       "      <th>Center</th>\n",
       "      <th>High</th>\n",
       "    </tr>\n",
       "  </thead>\n",
       "  <tbody>\n",
       "    <tr>\n",
       "      <th>0</th>\n",
       "      <td>0.695292</td>\n",
       "      <td>0.561492</td>\n",
       "      <td>0</td>\n",
       "      <td>0</td>\n",
       "      <td>0</td>\n",
       "      <td>0.695292</td>\n",
       "      <td>0.561492</td>\n",
       "      <td>1</td>\n",
       "      <td>0</td>\n",
       "      <td>0</td>\n",
       "      <td>0</td>\n",
       "    </tr>\n",
       "    <tr>\n",
       "      <th>1</th>\n",
       "      <td>0.588459</td>\n",
       "      <td>0.561492</td>\n",
       "      <td>1</td>\n",
       "      <td>0</td>\n",
       "      <td>0</td>\n",
       "      <td>0.588459</td>\n",
       "      <td>0.561492</td>\n",
       "      <td>1</td>\n",
       "      <td>1</td>\n",
       "      <td>0</td>\n",
       "      <td>0</td>\n",
       "    </tr>\n",
       "    <tr>\n",
       "      <th>2</th>\n",
       "      <td>-0.000000</td>\n",
       "      <td>-0.000000</td>\n",
       "      <td>0</td>\n",
       "      <td>0</td>\n",
       "      <td>0</td>\n",
       "      <td>-1.543334</td>\n",
       "      <td>-1.616368</td>\n",
       "      <td>0</td>\n",
       "      <td>0</td>\n",
       "      <td>0</td>\n",
       "      <td>1</td>\n",
       "    </tr>\n",
       "    <tr>\n",
       "      <th>3</th>\n",
       "      <td>0.549611</td>\n",
       "      <td>0.289259</td>\n",
       "      <td>1</td>\n",
       "      <td>0</td>\n",
       "      <td>1</td>\n",
       "      <td>0.549611</td>\n",
       "      <td>0.289259</td>\n",
       "      <td>1</td>\n",
       "      <td>1</td>\n",
       "      <td>0</td>\n",
       "      <td>1</td>\n",
       "    </tr>\n",
       "    <tr>\n",
       "      <th>4</th>\n",
       "      <td>-0.000000</td>\n",
       "      <td>-0.000000</td>\n",
       "      <td>0</td>\n",
       "      <td>0</td>\n",
       "      <td>0</td>\n",
       "      <td>-1.526338</td>\n",
       "      <td>-1.071903</td>\n",
       "      <td>0</td>\n",
       "      <td>1</td>\n",
       "      <td>0</td>\n",
       "      <td>1</td>\n",
       "    </tr>\n",
       "  </tbody>\n",
       "</table>\n",
       "</div>"
      ],
      "text/plain": [
       "   Shops_DT   ATMs_DT  Weekday__DT  Center_DT  High_DT     Shops      ATMs  \\\n",
       "0  0.695292  0.561492            0          0        0  0.695292  0.561492   \n",
       "1  0.588459  0.561492            1          0        0  0.588459  0.561492   \n",
       "2 -0.000000 -0.000000            0          0        0 -1.543334 -1.616368   \n",
       "3  0.549611  0.289259            1          0        1  0.549611  0.289259   \n",
       "4 -0.000000 -0.000000            0          0        0 -1.526338 -1.071903   \n",
       "\n",
       "   Downtown  Weekday  Center  High  \n",
       "0         1        0       0     0  \n",
       "1         1        1       0     0  \n",
       "2         0        0       0     1  \n",
       "3         1        1       0     1  \n",
       "4         0        1       0     1  "
      ]
     },
     "execution_count": 92,
     "metadata": {},
     "output_type": "execute_result"
    }
   ],
   "source": [
    "X = pd.concat([X_temp,X], axis=1)\n",
    "X.head()"
   ]
  },
  {
   "cell_type": "markdown",
   "metadata": {},
   "source": [
    "## Run the model with ALL the input variables\n",
    "\n",
    "(optional step)\n",
    "I like to do this so we can see the p value and potentially exclude some variables off the bat. \n",
    "This also gives us a base model to work with."
   ]
  },
  {
   "cell_type": "code",
   "execution_count": 93,
   "metadata": {},
   "outputs": [
    {
     "name": "stdout",
     "output_type": "stream",
     "text": [
      "Withdraw ~ Shops_DT + ATMs_DT + Weekday__DT + Center_DT + High_DT + Shops + ATMs + Downtown + Weekday + Center + High\n",
      "                            OLS Regression Results                            \n",
      "==============================================================================\n",
      "Dep. Variable:               Withdraw   R-squared:                       0.991\n",
      "Model:                            OLS   Adj. R-squared:                  0.991\n",
      "Method:                 Least Squares   F-statistic:                 2.257e+05\n",
      "Date:                Sun, 27 Oct 2024   Prob (F-statistic):               0.00\n",
      "Time:                        11:49:33   Log-Likelihood:                -50030.\n",
      "No. Observations:               22000   AIC:                         1.001e+05\n",
      "Df Residuals:                   21988   BIC:                         1.002e+05\n",
      "Df Model:                          11                                         \n",
      "Covariance Type:            nonrobust                                         \n",
      "===============================================================================\n",
      "                  coef    std err          t      P>|t|      [0.025      0.975]\n",
      "-------------------------------------------------------------------------------\n",
      "Intercept      24.2906      3.637      6.678      0.000      17.161      31.420\n",
      "Shops_DT       37.9941      2.401     15.824      0.000      33.288      42.700\n",
      "ATMs_DT        -0.0640      0.109     -0.588      0.557      -0.277       0.149\n",
      "Weekday__DT    -1.8436      0.076    -24.138      0.000      -1.993      -1.694\n",
      "Center_DT       5.1431      0.114     44.977      0.000       4.919       5.367\n",
      "High_DT        -0.0941      0.076     -1.245      0.213      -0.242       0.054\n",
      "Shops           7.5186      2.370      3.173      0.002       2.874      12.164\n",
      "ATMs           -3.6502      0.103    -35.329      0.000      -3.853      -3.448\n",
      "Downtown       20.6780      3.646      5.671      0.000      13.531      27.825\n",
      "Weekday        -2.2211      0.064    -34.839      0.000      -2.346      -2.096\n",
      "Center          3.5880      0.096     37.454      0.000       3.400       3.776\n",
      "High            1.0173      0.063     16.050      0.000       0.893       1.142\n",
      "==============================================================================\n",
      "Omnibus:                    13930.072   Durbin-Watson:                   2.007\n",
      "Prob(Omnibus):                  0.000   Jarque-Bera (JB):           272460.266\n",
      "Skew:                           2.724   Prob(JB):                         0.00\n",
      "Kurtosis:                      19.357   Cond. No.                         722.\n",
      "==============================================================================\n",
      "\n",
      "Notes:\n",
      "[1] Standard Errors assume that the covariance matrix of the errors is correctly specified.\n"
     ]
    }
   ],
   "source": [
    "model = run_model(X, y)\n",
    "print(model.summary()) "
   ]
  },
  {
   "cell_type": "markdown",
   "metadata": {},
   "source": [
    "## Best Subset selection!\n",
    "\n",
    "AIC, BIC, test MSE all used. An interesting feature might be to change the train test split."
   ]
  },
  {
   "cell_type": "code",
   "execution_count": 99,
   "metadata": {},
   "outputs": [
    {
     "name": "stdout",
     "output_type": "stream",
     "text": [
      "Best subset selection took 2048 iterations and 39.95 seconds. Best model based on each statistic is as follows (includes intercept):\n",
      "AIC=100081.61 with 10 parameters:\n",
      " Withdraw ~ Shops_DT + Weekday__DT + Center_DT + Shops + ATMs + Downtown + Weekday + Center + High\n",
      "\n",
      "BIC=100161.60 with 10 parameters:\n",
      " Withdraw ~ Shops_DT + Weekday__DT + Center_DT + Shops + ATMs + Downtown + Weekday + Center + High\n",
      "\n",
      "test MSE: 5.61 has 12 parameters:\n",
      " Withdraw ~ Shops_DT + ATMs_DT + Weekday__DT + Center_DT + High_DT + Shops + ATMs + Downtown + Weekday + Center + High\n"
     ]
    }
   ],
   "source": [
    "data = pd.concat([y,X], axis=1)\n",
    "\n",
    "# # Train and test sets\n",
    "# train = data.sample(frac=0.8, random_state=1)\n",
    "# test = data[data.index.isin(train.index)==False]\n",
    "\n",
    "X_train, X_test, y_train, y_test = train_test_split(\n",
    "    X,                  # Features\n",
    "    y,                  # Target variable\n",
    "    test_size=0.2,      # 20% for testing, 80% for training\n",
    "    random_state=42     # Set for reproducibility\n",
    ")\n",
    "\n",
    "train = pd.concat([y_train,X_train], axis=1)\n",
    "test = pd.concat([y_test,X_test], axis=1)\n",
    "\n",
    "# Initialize lists to store metrics\n",
    "aic = []\n",
    "bic = []\n",
    "p = []\n",
    "test_mse = []\n",
    "\n",
    "# Start time measurement\n",
    "start_time = time.time()\n",
    "\n",
    "count = 1\n",
    "\n",
    "# Null model with just the intercept\n",
    "formula = 'Withdraw ~ 1'\n",
    "model = ols(formula, data=data).fit()\n",
    "aic.append(model.aic)\n",
    "bic.append(model.bic)\n",
    "test_mse.append(comp_test_mse(model, test))\n",
    "p.append(1)\n",
    "\n",
    "# Initialize best metrics with the null model\n",
    "best_aic = model.aic\n",
    "best_bic = model.bic\n",
    "best_model_aic = formula\n",
    "best_model_bic = formula\n",
    "best_p_aic = 1\n",
    "best_p_bic = 1\n",
    "best_test_mse = test_mse[-1]\n",
    "best_model_test_mse = formula\n",
    "\n",
    "# Iterate over all combinations of predictors\n",
    "for i in range(1, len(X.columns) + 1):\n",
    "\n",
    "    # Reintialise best_train_mse for each i\n",
    "    best_train_mse = np.inf\n",
    "\n",
    "    for combo in itertools.combinations(X.columns, i):\n",
    "        # Create the model formula\n",
    "        formula = f'Withdraw ~ {\" + \".join(combo)}'\n",
    "        model = ols(formula, data=data).fit()\n",
    "        train_mse = np.mean(model.resid ** 2)\n",
    "\n",
    "        # Store the AIC, BIC, and number of parameters using append\n",
    "        aic.append(model.aic)\n",
    "        bic.append(model.bic)\n",
    "        p.append(i + 1)\n",
    "        \n",
    "        # Update best AIC model if current model is better\n",
    "        if model.aic < best_aic:\n",
    "            best_model_aic = formula\n",
    "            best_aic = model.aic\n",
    "            best_p_aic = i + 1\n",
    "        \n",
    "        # Update best BIC model if current model is better\n",
    "        if model.bic < best_bic:\n",
    "            best_model_bic = formula\n",
    "            best_bic = model.bic\n",
    "            best_p_bic = i + 1\n",
    "        \n",
    "        count += 1\n",
    "\n",
    "        #use train MSE to select the best set for a given number of predictors i\n",
    "        if train_mse < best_train_mse:\n",
    "            best_model_train_mse = formula\n",
    "            best_model_fit_train_mse = model\n",
    "            best_train_mse = train_mse\n",
    "\n",
    "    # once the best set was found for given i compute test mse\n",
    "    test_mse.append(comp_test_mse(best_model_fit_train_mse, test))\n",
    "\n",
    "    # Update best model based on test_mse if current model is better\n",
    "    if test_mse[-1] < best_test_mse:\n",
    "        best_model_test_mse = best_model_train_mse\n",
    "        best_test_mse = test_mse[-1]\n",
    "        best_p_test = i + 1\n",
    "\n",
    "    end_time = time.time()\n",
    "    elapsed_time = end_time - start_time\n",
    "\n",
    "# Output the best model\n",
    "print(f\"Best subset selection took {count} iterations and {elapsed_time:.2f} seconds. Best model based on each statistic is as follows (includes intercept):\")\n",
    "print(f\"AIC={best_aic:.2f} with {best_p_aic} parameters:\\n {best_model_aic}\\n\")\n",
    "print(f\"BIC={best_bic:.2f} with {best_p_bic} parameters:\\n {best_model_bic}\\n\") \n",
    "print(f\"test MSE: {best_test_mse:.2f} has {best_p_test} parameters:\\n {best_model_test_mse}\")"
   ]
  },
  {
   "cell_type": "code",
   "execution_count": 95,
   "metadata": {},
   "outputs": [
    {
     "data": {
      "text/plain": [
       "<Axes: >"
      ]
     },
     "execution_count": 95,
     "metadata": {},
     "output_type": "execute_result"
    },
    {
     "data": {
      "image/png": "[encoded data removed]",
      "text/plain": [
       "<Figure size 640x480 with 1 Axes>"
      ]
     },
     "metadata": {},
     "output_type": "display_data"
    }
   ],
   "source": [
    "sns.scatterplot(x=p, y=aic)\n",
    "sns.scatterplot(x=[best_p_aic], y=[best_aic]) # note here we plot just one point, but we need to pass is as list, hence the []"
   ]
  },
  {
   "cell_type": "code",
   "execution_count": 96,
   "metadata": {},
   "outputs": [
    {
     "data": {
      "text/plain": [
       "<Axes: >"
      ]
     },
     "execution_count": 96,
     "metadata": {},
     "output_type": "execute_result"
    },
    {
     "data": {
      "image/png": "[encoded data removed]",
      "text/plain": [
       "<Figure size 640x480 with 1 Axes>"
      ]
     },
     "metadata": {},
     "output_type": "display_data"
    }
   ],
   "source": [
    "sns.scatterplot(x=p, y=bic)\n",
    "sns.scatterplot(x=[best_p_bic], y=[best_bic]) # note here we plot just one point, but we need to pass is as list, hence the []"
   ]
  },
  {
   "cell_type": "code",
   "execution_count": 97,
   "metadata": {},
   "outputs": [
    {
     "data": {
      "text/plain": [
       "<Axes: >"
      ]
     },
     "execution_count": 97,
     "metadata": {},
     "output_type": "execute_result"
    },
    {
     "data": {
      "image/png": "[encoded data removed]",
      "text/plain": [
       "<Figure size 640x480 with 1 Axes>"
      ]
     },
     "metadata": {},
     "output_type": "display_data"
    }
   ],
   "source": [
    "sns.scatterplot(x=range(1, len(X.columns) + 2),y=test_mse)\n",
    "sns.scatterplot(x=[best_p_test], y=[best_test_mse]) # note here we plot just one point, but we need to pass is as list, hence the []"
   ]
  },
  {
   "cell_type": "markdown",
   "metadata": {},
   "source": [
    "### TO DO: \n",
    "\n",
    "`from sklearn.feature_selection import RFECV`\n",
    "\n",
    "Use this library to select features instead on cross validation\n",
    "\n",
    "Note: I don't know how necessary this is given our time span. \n"
   ]
  }
 ],
 "metadata": {
  "kernelspec": {
   "display_name": "base",
   "language": "python",
   "name": "python3"
  },
  "language_info": {
   "codemirror_mode": {
    "name": "ipython",
    "version": 3
   },
   "file_extension": ".py",
   "mimetype": "text/x-python",
   "name": "python",
   "nbconvert_exporter": "python",
   "pygments_lexer": "ipython3",
   "version": "3.12.4"
  }
 },
 "nbformat": 4,
 "nbformat_minor": 2
}
