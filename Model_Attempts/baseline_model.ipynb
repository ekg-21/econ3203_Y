{
 "cells": [
  {
   "cell_type": "code",
   "execution_count": 51,
   "metadata": {},
   "outputs": [],
   "source": [
    "import pandas as pd\n",
    "import numpy as np\n",
    "import matplotlib.pyplot as plt\n",
    "import seaborn as sns\n",
    "import itertools\n",
    "import time\n",
    "from statsmodels.formula.api import ols\n",
    "from sklearn.preprocessing import StandardScaler \n",
    "from sklearn.model_selection import train_test_split\n"
   ]
  },
  {
   "cell_type": "markdown",
   "metadata": {},
   "source": [
    "## Helper functions!"
   ]
  },
  {
   "cell_type": "code",
   "execution_count": 52,
   "metadata": {},
   "outputs": [],
   "source": [
    "# define function to compute test MSEs\n",
    "def comp_mse(model, temp_data):\n",
    "    predictions = model.predict(temp_data)\n",
    "    mse_test = np.mean((temp_data['Withdraw']-predictions)**2)    \n",
    "    return mse_test"
   ]
  },
  {
   "cell_type": "markdown",
   "metadata": {},
   "source": [
    "## Read the data"
   ]
  },
  {
   "cell_type": "code",
   "execution_count": 53,
   "metadata": {},
   "outputs": [
    {
     "data": {
      "text/plain": [
       "Index(['Shops', 'ATMs', 'Downtown', 'Weekday', 'Center', 'High'], dtype='object')"
      ]
     },
     "execution_count": 53,
     "metadata": {},
     "output_type": "execute_result"
    }
   ],
   "source": [
    "# Read the data\n",
    "data=pd.read_csv('ATM_sample.csv')\n",
    "data.head()\n",
    "\n",
    "# Define target variable\n",
    "y = data['Withdraw']\n",
    "\n",
    "# Define the input variables\n",
    "X = data.drop(columns=['Withdraw'])\n",
    "\n",
    "X.columns"
   ]
  },
  {
   "cell_type": "markdown",
   "metadata": {},
   "source": [
    "### Baseline Model for comparison\n",
    "\n",
    "No change made to the data at all... no variables added or removed and no scaling applied"
   ]
  },
  {
   "cell_type": "code",
   "execution_count": 54,
   "metadata": {},
   "outputs": [
    {
     "name": "stdout",
     "output_type": "stream",
     "text": [
      "Test MSE:  6.202418293994368\n",
      "Train MSE:  6.2675254081872716\n"
     ]
    },
    {
     "data": {
      "text/html": [
       "<table class=\"simpletable\">\n",
       "<caption>OLS Regression Results</caption>\n",
       "<tr>\n",
       "  <th>Dep. Variable:</th>        <td>Withdraw</td>     <th>  R-squared:         </th> <td>   0.990</td> \n",
       "</tr>\n",
       "<tr>\n",
       "  <th>Model:</th>                   <td>OLS</td>       <th>  Adj. R-squared:    </th> <td>   0.990</td> \n",
       "</tr>\n",
       "<tr>\n",
       "  <th>Method:</th>             <td>Least Squares</td>  <th>  F-statistic:       </th> <td>2.934e+05</td>\n",
       "</tr>\n",
       "<tr>\n",
       "  <th>Date:</th>             <td>Tue, 29 Oct 2024</td> <th>  Prob (F-statistic):</th>  <td>  0.00</td>  \n",
       "</tr>\n",
       "<tr>\n",
       "  <th>Time:</th>                 <td>20:16:41</td>     <th>  Log-Likelihood:    </th> <td> -41125.</td> \n",
       "</tr>\n",
       "<tr>\n",
       "  <th>No. Observations:</th>      <td> 17600</td>      <th>  AIC:               </th> <td>8.226e+04</td>\n",
       "</tr>\n",
       "<tr>\n",
       "  <th>Df Residuals:</th>          <td> 17593</td>      <th>  BIC:               </th> <td>8.232e+04</td>\n",
       "</tr>\n",
       "<tr>\n",
       "  <th>Df Model:</th>              <td>     6</td>      <th>                     </th>     <td> </td>    \n",
       "</tr>\n",
       "<tr>\n",
       "  <th>Covariance Type:</th>      <td>nonrobust</td>    <th>                     </th>     <td> </td>    \n",
       "</tr>\n",
       "</table>\n",
       "<table class=\"simpletable\">\n",
       "<tr>\n",
       "      <td></td>         <th>coef</th>     <th>std err</th>      <th>t</th>      <th>P>|t|</th>  <th>[0.025</th>    <th>0.975]</th>  \n",
       "</tr>\n",
       "<tr>\n",
       "  <th>Intercept</th> <td>   10.4437</td> <td>    0.124</td> <td>   84.158</td> <td> 0.000</td> <td>   10.200</td> <td>   10.687</td>\n",
       "</tr>\n",
       "<tr>\n",
       "  <th>Shops</th>     <td>    0.1079</td> <td>    0.001</td> <td>   97.890</td> <td> 0.000</td> <td>    0.106</td> <td>    0.110</td>\n",
       "</tr>\n",
       "<tr>\n",
       "  <th>ATMs</th>      <td>   -1.0121</td> <td>    0.011</td> <td>  -96.011</td> <td> 0.000</td> <td>   -1.033</td> <td>   -0.991</td>\n",
       "</tr>\n",
       "<tr>\n",
       "  <th>Downtown</th>  <td>  -35.9429</td> <td>    0.995</td> <td>  -36.113</td> <td> 0.000</td> <td>  -37.894</td> <td>  -33.992</td>\n",
       "</tr>\n",
       "<tr>\n",
       "  <th>Weekday</th>   <td>   -3.5078</td> <td>    0.042</td> <td>  -83.871</td> <td> 0.000</td> <td>   -3.590</td> <td>   -3.426</td>\n",
       "</tr>\n",
       "<tr>\n",
       "  <th>Center</th>    <td>    7.3074</td> <td>    0.063</td> <td>  116.366</td> <td> 0.000</td> <td>    7.184</td> <td>    7.431</td>\n",
       "</tr>\n",
       "<tr>\n",
       "  <th>High</th>      <td>    0.9774</td> <td>    0.041</td> <td>   23.777</td> <td> 0.000</td> <td>    0.897</td> <td>    1.058</td>\n",
       "</tr>\n",
       "</table>\n",
       "<table class=\"simpletable\">\n",
       "<tr>\n",
       "  <th>Omnibus:</th>       <td>13943.449</td> <th>  Durbin-Watson:     </th>  <td>   2.006</td> \n",
       "</tr>\n",
       "<tr>\n",
       "  <th>Prob(Omnibus):</th>  <td> 0.000</td>   <th>  Jarque-Bera (JB):  </th> <td>353715.237</td>\n",
       "</tr>\n",
       "<tr>\n",
       "  <th>Skew:</th>           <td> 3.690</td>   <th>  Prob(JB):          </th>  <td>    0.00</td> \n",
       "</tr>\n",
       "<tr>\n",
       "  <th>Kurtosis:</th>       <td>23.685</td>   <th>  Cond. No.          </th>  <td>4.45e+04</td> \n",
       "</tr>\n",
       "</table><br/><br/>Notes:<br/>[1] Standard Errors assume that the covariance matrix of the errors is correctly specified.<br/>[2] The condition number is large, 4.45e+04. This might indicate that there are<br/>strong multicollinearity or other numerical problems."
      ],
      "text/latex": [
       "\\begin{center}\n",
       "\\begin{tabular}{lclc}\n",
       "\\toprule\n",
       "\\textbf{Dep. Variable:}    &     Withdraw     & \\textbf{  R-squared:         } &     0.990   \\\\\n",
       "\\textbf{Model:}            &       OLS        & \\textbf{  Adj. R-squared:    } &     0.990   \\\\\n",
       "\\textbf{Method:}           &  Least Squares   & \\textbf{  F-statistic:       } & 2.934e+05   \\\\\n",
       "\\textbf{Date:}             & Tue, 29 Oct 2024 & \\textbf{  Prob (F-statistic):} &     0.00    \\\\\n",
       "\\textbf{Time:}             &     20:16:41     & \\textbf{  Log-Likelihood:    } &   -41125.   \\\\\n",
       "\\textbf{No. Observations:} &       17600      & \\textbf{  AIC:               } & 8.226e+04   \\\\\n",
       "\\textbf{Df Residuals:}     &       17593      & \\textbf{  BIC:               } & 8.232e+04   \\\\\n",
       "\\textbf{Df Model:}         &           6      & \\textbf{                     } &             \\\\\n",
       "\\textbf{Covariance Type:}  &    nonrobust     & \\textbf{                     } &             \\\\\n",
       "\\bottomrule\n",
       "\\end{tabular}\n",
       "\\begin{tabular}{lcccccc}\n",
       "                   & \\textbf{coef} & \\textbf{std err} & \\textbf{t} & \\textbf{P$> |$t$|$} & \\textbf{[0.025} & \\textbf{0.975]}  \\\\\n",
       "\\midrule\n",
       "\\textbf{Intercept} &      10.4437  &        0.124     &    84.158  &         0.000        &       10.200    &       10.687     \\\\\n",
       "\\textbf{Shops}     &       0.1079  &        0.001     &    97.890  &         0.000        &        0.106    &        0.110     \\\\\n",
       "\\textbf{ATMs}      &      -1.0121  &        0.011     &   -96.011  &         0.000        &       -1.033    &       -0.991     \\\\\n",
       "\\textbf{Downtown}  &     -35.9429  &        0.995     &   -36.113  &         0.000        &      -37.894    &      -33.992     \\\\\n",
       "\\textbf{Weekday}   &      -3.5078  &        0.042     &   -83.871  &         0.000        &       -3.590    &       -3.426     \\\\\n",
       "\\textbf{Center}    &       7.3074  &        0.063     &   116.366  &         0.000        &        7.184    &        7.431     \\\\\n",
       "\\textbf{High}      &       0.9774  &        0.041     &    23.777  &         0.000        &        0.897    &        1.058     \\\\\n",
       "\\bottomrule\n",
       "\\end{tabular}\n",
       "\\begin{tabular}{lclc}\n",
       "\\textbf{Omnibus:}       & 13943.449 & \\textbf{  Durbin-Watson:     } &     2.006   \\\\\n",
       "\\textbf{Prob(Omnibus):} &    0.000  & \\textbf{  Jarque-Bera (JB):  } & 353715.237  \\\\\n",
       "\\textbf{Skew:}          &    3.690  & \\textbf{  Prob(JB):          } &      0.00   \\\\\n",
       "\\textbf{Kurtosis:}      &   23.685  & \\textbf{  Cond. No.          } &  4.45e+04   \\\\\n",
       "\\bottomrule\n",
       "\\end{tabular}\n",
       "%\\caption{OLS Regression Results}\n",
       "\\end{center}\n",
       "\n",
       "Notes: \\newline\n",
       " [1] Standard Errors assume that the covariance matrix of the errors is correctly specified. \\newline\n",
       " [2] The condition number is large, 4.45e+04. This might indicate that there are \\newline\n",
       " strong multicollinearity or other numerical problems."
      ],
      "text/plain": [
       "<class 'statsmodels.iolib.summary.Summary'>\n",
       "\"\"\"\n",
       "                            OLS Regression Results                            \n",
       "==============================================================================\n",
       "Dep. Variable:               Withdraw   R-squared:                       0.990\n",
       "Model:                            OLS   Adj. R-squared:                  0.990\n",
       "Method:                 Least Squares   F-statistic:                 2.934e+05\n",
       "Date:                Tue, 29 Oct 2024   Prob (F-statistic):               0.00\n",
       "Time:                        20:16:41   Log-Likelihood:                -41125.\n",
       "No. Observations:               17600   AIC:                         8.226e+04\n",
       "Df Residuals:                   17593   BIC:                         8.232e+04\n",
       "Df Model:                           6                                         \n",
       "Covariance Type:            nonrobust                                         \n",
       "==============================================================================\n",
       "                 coef    std err          t      P>|t|      [0.025      0.975]\n",
       "------------------------------------------------------------------------------\n",
       "Intercept     10.4437      0.124     84.158      0.000      10.200      10.687\n",
       "Shops          0.1079      0.001     97.890      0.000       0.106       0.110\n",
       "ATMs          -1.0121      0.011    -96.011      0.000      -1.033      -0.991\n",
       "Downtown     -35.9429      0.995    -36.113      0.000     -37.894     -33.992\n",
       "Weekday       -3.5078      0.042    -83.871      0.000      -3.590      -3.426\n",
       "Center         7.3074      0.063    116.366      0.000       7.184       7.431\n",
       "High           0.9774      0.041     23.777      0.000       0.897       1.058\n",
       "==============================================================================\n",
       "Omnibus:                    13943.449   Durbin-Watson:                   2.006\n",
       "Prob(Omnibus):                  0.000   Jarque-Bera (JB):           353715.237\n",
       "Skew:                           3.690   Prob(JB):                         0.00\n",
       "Kurtosis:                      23.685   Cond. No.                     4.45e+04\n",
       "==============================================================================\n",
       "\n",
       "Notes:\n",
       "[1] Standard Errors assume that the covariance matrix of the errors is correctly specified.\n",
       "[2] The condition number is large, 4.45e+04. This might indicate that there are\n",
       "strong multicollinearity or other numerical problems.\n",
       "\"\"\""
      ]
     },
     "execution_count": 54,
     "metadata": {},
     "output_type": "execute_result"
    }
   ],
   "source": [
    "X_train, X_test, y_train, y_test = train_test_split(\n",
    "    X,                  # Features\n",
    "    y,                  # Target variable\n",
    "    test_size=0.2,      # 20% for testing, 80% for training\n",
    "    random_state=42     # Set for reproducibility\n",
    ")\n",
    "\n",
    "train = pd.concat([y_train,X_train], axis=1)\n",
    "test = pd.concat([y_test,X_test], axis=1)\n",
    "\n",
    "formula = f'Withdraw ~ {\" + \".join(X_train.columns)}'  \n",
    "\n",
    "model = ols(formula, data=train).fit()\n",
    "print(\"Test MSE: \", comp_mse(model, test))\n",
    "print(\"Train MSE: \", comp_mse(model, train))\n",
    "model.summary()"
   ]
  },
  {
   "cell_type": "markdown",
   "metadata": {},
   "source": [
    "## Preprocess the data for best model subset selection..."
   ]
  },
  {
   "cell_type": "code",
   "execution_count": 55,
   "metadata": {},
   "outputs": [
    {
     "data": {
      "text/html": [
       "<div>\n",
       "<style scoped>\n",
       "    .dataframe tbody tr th:only-of-type {\n",
       "        vertical-align: middle;\n",
       "    }\n",
       "\n",
       "    .dataframe tbody tr th {\n",
       "        vertical-align: top;\n",
       "    }\n",
       "\n",
       "    .dataframe thead th {\n",
       "        text-align: right;\n",
       "    }\n",
       "</style>\n",
       "<table border=\"1\" class=\"dataframe\">\n",
       "  <thead>\n",
       "    <tr style=\"text-align: right;\">\n",
       "      <th></th>\n",
       "      <th>Withdraw</th>\n",
       "      <th>Shops</th>\n",
       "      <th>ATMs</th>\n",
       "      <th>Downtown</th>\n",
       "      <th>Weekday</th>\n",
       "      <th>Center</th>\n",
       "      <th>High</th>\n",
       "    </tr>\n",
       "  </thead>\n",
       "  <tbody>\n",
       "    <tr>\n",
       "      <th>7214</th>\n",
       "      <td>71.451101</td>\n",
       "      <td>0.627193</td>\n",
       "      <td>0.830934</td>\n",
       "      <td>1</td>\n",
       "      <td>1</td>\n",
       "      <td>1</td>\n",
       "      <td>1</td>\n",
       "    </tr>\n",
       "    <tr>\n",
       "      <th>13522</th>\n",
       "      <td>64.949936</td>\n",
       "      <td>0.534761</td>\n",
       "      <td>0.286455</td>\n",
       "      <td>1</td>\n",
       "      <td>1</td>\n",
       "      <td>0</td>\n",
       "      <td>0</td>\n",
       "    </tr>\n",
       "    <tr>\n",
       "      <th>18479</th>\n",
       "      <td>70.265111</td>\n",
       "      <td>0.639356</td>\n",
       "      <td>0.014215</td>\n",
       "      <td>1</td>\n",
       "      <td>1</td>\n",
       "      <td>0</td>\n",
       "      <td>1</td>\n",
       "    </tr>\n",
       "    <tr>\n",
       "      <th>3366</th>\n",
       "      <td>70.693183</td>\n",
       "      <td>0.656382</td>\n",
       "      <td>0.558694</td>\n",
       "      <td>1</td>\n",
       "      <td>1</td>\n",
       "      <td>0</td>\n",
       "      <td>1</td>\n",
       "    </tr>\n",
       "    <tr>\n",
       "      <th>21645</th>\n",
       "      <td>16.757929</td>\n",
       "      <td>-1.508474</td>\n",
       "      <td>-1.346982</td>\n",
       "      <td>0</td>\n",
       "      <td>1</td>\n",
       "      <td>0</td>\n",
       "      <td>0</td>\n",
       "    </tr>\n",
       "  </tbody>\n",
       "</table>\n",
       "</div>"
      ],
      "text/plain": [
       "        Withdraw     Shops      ATMs  Downtown  Weekday  Center  High\n",
       "7214   71.451101  0.627193  0.830934         1        1       1     1\n",
       "13522  64.949936  0.534761  0.286455         1        1       0     0\n",
       "18479  70.265111  0.639356  0.014215         1        1       0     1\n",
       "3366   70.693183  0.656382  0.558694         1        1       0     1\n",
       "21645  16.757929 -1.508474 -1.346982         0        1       0     0"
      ]
     },
     "execution_count": 55,
     "metadata": {},
     "output_type": "execute_result"
    }
   ],
   "source": [
    "# Preprocess the data\n",
    "# 1. Separate the data into training and test data\n",
    "# 2. Fit the scaling to the training data and apply to both the train and test data \n",
    "\n",
    "# TO DO: Define columns to scale\n",
    "columns_to_scale = ['ATMs', 'Shops',]\n",
    "\n",
    "# 1. Separate\n",
    "X_train, X_test, y_train, y_test = train_test_split(\n",
    "    X,                  # Features\n",
    "    y,                  # Target variable\n",
    "    test_size=0.2,      # 20% for testing, 80% for training\n",
    "    random_state=1     # Set for reproducibility\n",
    ")\n",
    "\n",
    "train = pd.concat([y_train,X_train], axis=1)\n",
    "test = pd.concat([y_test,X_test], axis=1)\n",
    "\n",
    "# 2. Scale\n",
    "scaler = StandardScaler().fit(train[columns_to_scale]) \n",
    "\n",
    "train[columns_to_scale] = scaler.transform(train[columns_to_scale])\n",
    "test[columns_to_scale] = scaler.transform(test[columns_to_scale]) \n",
    "\n",
    "train.head()\n"
   ]
  },
  {
   "cell_type": "markdown",
   "metadata": {},
   "source": [
    "## Best Subset selection!\n",
    "\n",
    "AIC, BIC, test MSE all used. An interesting feature might be to change the train test split."
   ]
  },
  {
   "cell_type": "code",
   "execution_count": 56,
   "metadata": {},
   "outputs": [
    {
     "name": "stdout",
     "output_type": "stream",
     "text": [
      "Best subset selection took 64 iterations and 1.40 seconds. Best model based on each statistic is as follows (includes intercept):\n",
      "AIC=82243.96 with 7 parameters:\n",
      " Withdraw ~ Shops + ATMs + Downtown + Weekday + Center + High\n",
      "\n",
      "BIC=82298.39 with 7 parameters:\n",
      " Withdraw ~ Shops + ATMs + Downtown + Weekday + Center + High\n",
      "\n",
      "test MSE: 6.22 has 7 parameters:\n",
      " Withdraw ~ Shops + ATMs + Downtown + Weekday + Center + High\n"
     ]
    }
   ],
   "source": [
    "# Initialize lists to store metrics\n",
    "aic = []\n",
    "bic = []\n",
    "p = []\n",
    "test_mse = []\n",
    "\n",
    "# Start time measurement\n",
    "start_time = time.time()\n",
    "\n",
    "count = 1\n",
    "\n",
    "# Null model with just the intercept\n",
    "formula = 'Withdraw ~ 1'\n",
    "model = ols(formula, data=train).fit()\n",
    "aic.append(model.aic)\n",
    "bic.append(model.bic)\n",
    "test_mse.append(comp_mse(model, test))\n",
    "p.append(1)\n",
    "\n",
    "# Initialize best metrics with the null model\n",
    "best_aic = model.aic\n",
    "best_bic = model.bic\n",
    "best_model_aic = formula\n",
    "best_model_bic = formula\n",
    "best_p_aic = 1\n",
    "best_p_bic = 1\n",
    "best_test_mse = test_mse[-1]\n",
    "best_model_test_mse = formula\n",
    "\n",
    "# Iterate over all combinations of predictors\n",
    "for i in range(1, len(X_train.columns) + 1):\n",
    "\n",
    "    # Reintialise best_train_mse for each i\n",
    "    best_train_mse = np.inf \n",
    "\n",
    "    for combo in itertools.combinations(X_train.columns, i):\n",
    "        # Create the model formula\n",
    "        formula = f'Withdraw ~ {\" + \".join(combo)}'\n",
    "        model = ols(formula, data=train).fit()\n",
    "        train_mse = comp_mse(model, train)\n",
    "\n",
    "        # Store the AIC, BIC, and number of parameters using append\n",
    "        aic.append(model.aic)\n",
    "        bic.append(model.bic)\n",
    "        p.append(i + 1)\n",
    "        \n",
    "        # Update best AIC model if current model is better\n",
    "        if model.aic < best_aic:\n",
    "            best_model_aic = formula\n",
    "            best_aic = model.aic\n",
    "            best_p_aic = i + 1 \n",
    "        \n",
    "        # Update best BIC model if current model is better\n",
    "        if model.bic < best_bic:\n",
    "            best_model_bic = formula\n",
    "            best_bic = model.bic\n",
    "            best_p_bic = i + 1 \n",
    "\n",
    "        count += 1\n",
    "\n",
    "        #use train MSE to select the best set for a given number of predictors i\n",
    "        if train_mse < best_train_mse:\n",
    "            best_model_train_mse = formula\n",
    "            best_model_fit_train_mse = model\n",
    "            best_train_mse = train_mse\n",
    "\n",
    "    # once the best set was found for given i compute test mse\n",
    "    test_mse.append(comp_mse(best_model_fit_train_mse, test))\n",
    "\n",
    "    # Update best model based on test_mse if current model is better\n",
    "    if test_mse[-1] < best_test_mse:\n",
    "        best_model_test_mse = best_model_train_mse\n",
    "        best_test_mse = test_mse[-1]\n",
    "        best_p_test = i + 1\n",
    "\n",
    "    end_time = time.time()\n",
    "    elapsed_time = end_time - start_time\n",
    "\n",
    "# Output the best model\n",
    "print(f\"Best subset selection took {count} iterations and {elapsed_time:.2f} seconds. Best model based on each statistic is as follows (includes intercept):\")\n",
    "print(f\"AIC={best_aic:.2f} with {best_p_aic} parameters:\\n {best_model_aic}\\n\")\n",
    "print(f\"BIC={best_bic:.2f} with {best_p_bic} parameters:\\n {best_model_bic}\\n\") \n",
    "print(f\"test MSE: {best_test_mse:.2f} has {best_p_test} parameters:\\n {best_model_test_mse}\")"
   ]
  },
  {
   "cell_type": "code",
   "execution_count": 57,
   "metadata": {},
   "outputs": [
    {
     "data": {
      "text/plain": [
       "<Axes: >"
      ]
     },
     "execution_count": 57,
     "metadata": {},
     "output_type": "execute_result"
    },
    {
     "data": {
      "image/png": "[encoded data removed]",
      "text/plain": [
       "<Figure size 640x480 with 1 Axes>"
      ]
     },
     "metadata": {},
     "output_type": "display_data"
    }
   ],
   "source": [
    "sns.scatterplot(x=p, y=aic)\n",
    "sns.scatterplot(x=[best_p_aic], y=[best_aic]) # note here we plot just one point, but we need to pass is as list, hence the []"
   ]
  },
  {
   "cell_type": "code",
   "execution_count": 58,
   "metadata": {},
   "outputs": [
    {
     "data": {
      "text/plain": [
       "<Axes: >"
      ]
     },
     "execution_count": 58,
     "metadata": {},
     "output_type": "execute_result"
    },
    {
     "data": {
      "image/png": "[encoded data removed]",
      "text/plain": [
       "<Figure size 640x480 with 1 Axes>"
      ]
     },
     "metadata": {},
     "output_type": "display_data"
    }
   ],
   "source": [
    "sns.scatterplot(x=p, y=bic)\n",
    "sns.scatterplot(x=[best_p_bic], y=[best_bic]) # note here we plot just one point, but we need to pass is as list, hence the []"
   ]
  },
  {
   "cell_type": "code",
   "execution_count": 59,
   "metadata": {},
   "outputs": [
    {
     "data": {
      "text/plain": [
       "<Axes: >"
      ]
     },
     "execution_count": 59,
     "metadata": {},
     "output_type": "execute_result"
    },
    {
     "data": {
      "image/png": "[encoded data removed]",
      "text/plain": [
       "<Figure size 640x480 with 1 Axes>"
      ]
     },
     "metadata": {},
     "output_type": "display_data"
    }
   ],
   "source": [
    "sns.scatterplot(x=range(1+1, len(train.columns) + 1),y=test_mse[1:])\n",
    "sns.scatterplot(x=[best_p_test], y=[best_test_mse]) # note here we plot just one point, but we need to pass is as list, hence the []"
   ]
  }
 ],
 "metadata": {
  "kernelspec": {
   "display_name": "base",
   "language": "python",
   "name": "python3"
  },
  "language_info": {
   "codemirror_mode": {
    "name": "ipython",
    "version": 3
   },
   "file_extension": ".py",
   "mimetype": "text/x-python",
   "name": "python",
   "nbconvert_exporter": "python",
   "pygments_lexer": "ipython3",
   "version": "3.12.4"
  }
 },
 "nbformat": 4,
 "nbformat_minor": 2
}
