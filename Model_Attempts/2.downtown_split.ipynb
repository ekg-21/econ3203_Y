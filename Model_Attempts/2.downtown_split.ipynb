{
 "cells": [
  {
   "cell_type": "code",
   "execution_count": 26,
   "metadata": {},
   "outputs": [],
   "source": [
    "import pandas as pd\n",
    "import numpy as np\n",
    "import matplotlib.pyplot as plt\n",
    "import seaborn as sns\n",
    "import itertools\n",
    "import time\n",
    "from statsmodels.formula.api import ols\n",
    "from sklearn.preprocessing import StandardScaler \n",
    "from sklearn.model_selection import train_test_split\n",
    "import statistics\n",
    "\n"
   ]
  },
  {
   "cell_type": "markdown",
   "metadata": {},
   "source": [
    "## Helper functions!"
   ]
  },
  {
   "cell_type": "code",
   "execution_count": 27,
   "metadata": {},
   "outputs": [],
   "source": [
    "# define function to compute test MSEs\n",
    "def comp_mse(model, temp_data):\n",
    "    predictions = model.predict(temp_data)\n",
    "    mse_test = np.mean((temp_data['Withdraw']-predictions)**2)    \n",
    "    return mse_test"
   ]
  },
  {
   "cell_type": "markdown",
   "metadata": {},
   "source": [
    "## Read the data"
   ]
  },
  {
   "cell_type": "code",
   "execution_count": 28,
   "metadata": {},
   "outputs": [
    {
     "data": {
      "text/plain": [
       "Index(['Shops', 'ATMs', 'Downtown', 'Weekday', 'Center', 'High'], dtype='object')"
      ]
     },
     "execution_count": 28,
     "metadata": {},
     "output_type": "execute_result"
    }
   ],
   "source": [
    "# Read the data\n",
    "data=pd.read_csv('ATM_sample.csv')\n",
    "data.head()\n",
    "\n",
    "# Define target variable\n",
    "y = data['Withdraw']\n",
    "\n",
    "# Define the input variables\n",
    "X = data.drop(columns=['Withdraw'])\n",
    "\n",
    "X.columns"
   ]
  },
  {
   "cell_type": "markdown",
   "metadata": {},
   "source": [
    "## Alter the input columns (X) as you see fit\n",
    "\n",
    "The following example adds combination variables split on downtown."
   ]
  },
  {
   "cell_type": "code",
   "execution_count": 29,
   "metadata": {},
   "outputs": [],
   "source": [
    "X_temp = X.drop(columns=['Downtown']).mul(X['Downtown'], axis=0).rename(columns={'Shops': \"Shops_DT\", 'ATMs': \"ATMs_DT\", 'Weekday': \"Weekday__DT\", 'Center': 'Center_DT', 'High': \"High_DT\"})  "
   ]
  },
  {
   "cell_type": "code",
   "execution_count": 30,
   "metadata": {},
   "outputs": [
    {
     "data": {
      "text/html": [
       "<div>\n",
       "<style scoped>\n",
       "    .dataframe tbody tr th:only-of-type {\n",
       "        vertical-align: middle;\n",
       "    }\n",
       "\n",
       "    .dataframe tbody tr th {\n",
       "        vertical-align: top;\n",
       "    }\n",
       "\n",
       "    .dataframe thead th {\n",
       "        text-align: right;\n",
       "    }\n",
       "</style>\n",
       "<table border=\"1\" class=\"dataframe\">\n",
       "  <thead>\n",
       "    <tr style=\"text-align: right;\">\n",
       "      <th></th>\n",
       "      <th>Shops_DT</th>\n",
       "      <th>ATMs_DT</th>\n",
       "      <th>Weekday__DT</th>\n",
       "      <th>Center_DT</th>\n",
       "      <th>High_DT</th>\n",
       "      <th>Shops</th>\n",
       "      <th>ATMs</th>\n",
       "      <th>Downtown</th>\n",
       "      <th>Weekday</th>\n",
       "      <th>Center</th>\n",
       "      <th>High</th>\n",
       "    </tr>\n",
       "  </thead>\n",
       "  <tbody>\n",
       "    <tr>\n",
       "      <th>0</th>\n",
       "      <td>1018</td>\n",
       "      <td>10</td>\n",
       "      <td>0</td>\n",
       "      <td>0</td>\n",
       "      <td>0</td>\n",
       "      <td>1018</td>\n",
       "      <td>10</td>\n",
       "      <td>1</td>\n",
       "      <td>0</td>\n",
       "      <td>0</td>\n",
       "      <td>0</td>\n",
       "    </tr>\n",
       "    <tr>\n",
       "      <th>1</th>\n",
       "      <td>974</td>\n",
       "      <td>10</td>\n",
       "      <td>1</td>\n",
       "      <td>0</td>\n",
       "      <td>0</td>\n",
       "      <td>974</td>\n",
       "      <td>10</td>\n",
       "      <td>1</td>\n",
       "      <td>1</td>\n",
       "      <td>0</td>\n",
       "      <td>0</td>\n",
       "    </tr>\n",
       "    <tr>\n",
       "      <th>2</th>\n",
       "      <td>0</td>\n",
       "      <td>0</td>\n",
       "      <td>0</td>\n",
       "      <td>0</td>\n",
       "      <td>0</td>\n",
       "      <td>96</td>\n",
       "      <td>2</td>\n",
       "      <td>0</td>\n",
       "      <td>0</td>\n",
       "      <td>0</td>\n",
       "      <td>1</td>\n",
       "    </tr>\n",
       "    <tr>\n",
       "      <th>3</th>\n",
       "      <td>958</td>\n",
       "      <td>9</td>\n",
       "      <td>1</td>\n",
       "      <td>0</td>\n",
       "      <td>1</td>\n",
       "      <td>958</td>\n",
       "      <td>9</td>\n",
       "      <td>1</td>\n",
       "      <td>1</td>\n",
       "      <td>0</td>\n",
       "      <td>1</td>\n",
       "    </tr>\n",
       "    <tr>\n",
       "      <th>4</th>\n",
       "      <td>0</td>\n",
       "      <td>0</td>\n",
       "      <td>0</td>\n",
       "      <td>0</td>\n",
       "      <td>0</td>\n",
       "      <td>103</td>\n",
       "      <td>4</td>\n",
       "      <td>0</td>\n",
       "      <td>1</td>\n",
       "      <td>0</td>\n",
       "      <td>1</td>\n",
       "    </tr>\n",
       "  </tbody>\n",
       "</table>\n",
       "</div>"
      ],
      "text/plain": [
       "   Shops_DT  ATMs_DT  Weekday__DT  Center_DT  High_DT  Shops  ATMs  Downtown  \\\n",
       "0      1018       10            0          0        0   1018    10         1   \n",
       "1       974       10            1          0        0    974    10         1   \n",
       "2         0        0            0          0        0     96     2         0   \n",
       "3       958        9            1          0        1    958     9         1   \n",
       "4         0        0            0          0        0    103     4         0   \n",
       "\n",
       "   Weekday  Center  High  \n",
       "0        0       0     0  \n",
       "1        1       0     0  \n",
       "2        0       0     1  \n",
       "3        1       0     1  \n",
       "4        1       0     1  "
      ]
     },
     "execution_count": 30,
     "metadata": {},
     "output_type": "execute_result"
    }
   ],
   "source": [
    "X_new = pd.concat([X_temp,X], axis=1)\n",
    "X_new.head()"
   ]
  },
  {
   "cell_type": "markdown",
   "metadata": {},
   "source": [
    "## Run model with ALL the added input variables\n",
    "\n",
    "This is an optional step so we can see the base line model results. We can examine the p variables to determine which variables should be excluded."
   ]
  },
  {
   "cell_type": "code",
   "execution_count": 31,
   "metadata": {},
   "outputs": [
    {
     "data": {
      "text/html": [
       "<div>\n",
       "<style scoped>\n",
       "    .dataframe tbody tr th:only-of-type {\n",
       "        vertical-align: middle;\n",
       "    }\n",
       "\n",
       "    .dataframe tbody tr th {\n",
       "        vertical-align: top;\n",
       "    }\n",
       "\n",
       "    .dataframe thead th {\n",
       "        text-align: right;\n",
       "    }\n",
       "</style>\n",
       "<table border=\"1\" class=\"dataframe\">\n",
       "  <thead>\n",
       "    <tr style=\"text-align: right;\">\n",
       "      <th></th>\n",
       "      <th>Withdraw</th>\n",
       "      <th>Shops_DT</th>\n",
       "      <th>ATMs_DT</th>\n",
       "      <th>Weekday__DT</th>\n",
       "      <th>Center_DT</th>\n",
       "      <th>High_DT</th>\n",
       "      <th>Shops</th>\n",
       "      <th>ATMs</th>\n",
       "      <th>Downtown</th>\n",
       "      <th>Weekday</th>\n",
       "      <th>Center</th>\n",
       "      <th>High</th>\n",
       "    </tr>\n",
       "  </thead>\n",
       "  <tbody>\n",
       "    <tr>\n",
       "      <th>7214</th>\n",
       "      <td>71.451101</td>\n",
       "      <td>0.629417</td>\n",
       "      <td>0.807052</td>\n",
       "      <td>1</td>\n",
       "      <td>1</td>\n",
       "      <td>1</td>\n",
       "      <td>0.627193</td>\n",
       "      <td>0.830934</td>\n",
       "      <td>1</td>\n",
       "      <td>1</td>\n",
       "      <td>1</td>\n",
       "      <td>1</td>\n",
       "    </tr>\n",
       "    <tr>\n",
       "      <th>13522</th>\n",
       "      <td>64.949936</td>\n",
       "      <td>0.546223</td>\n",
       "      <td>0.397534</td>\n",
       "      <td>1</td>\n",
       "      <td>0</td>\n",
       "      <td>0</td>\n",
       "      <td>0.534761</td>\n",
       "      <td>0.286455</td>\n",
       "      <td>1</td>\n",
       "      <td>1</td>\n",
       "      <td>0</td>\n",
       "      <td>0</td>\n",
       "    </tr>\n",
       "    <tr>\n",
       "      <th>18479</th>\n",
       "      <td>70.265111</td>\n",
       "      <td>0.640364</td>\n",
       "      <td>0.192776</td>\n",
       "      <td>1</td>\n",
       "      <td>0</td>\n",
       "      <td>1</td>\n",
       "      <td>0.639356</td>\n",
       "      <td>0.014215</td>\n",
       "      <td>1</td>\n",
       "      <td>1</td>\n",
       "      <td>0</td>\n",
       "      <td>1</td>\n",
       "    </tr>\n",
       "    <tr>\n",
       "      <th>3366</th>\n",
       "      <td>70.693183</td>\n",
       "      <td>0.655689</td>\n",
       "      <td>0.602293</td>\n",
       "      <td>1</td>\n",
       "      <td>0</td>\n",
       "      <td>1</td>\n",
       "      <td>0.656382</td>\n",
       "      <td>0.558694</td>\n",
       "      <td>1</td>\n",
       "      <td>1</td>\n",
       "      <td>0</td>\n",
       "      <td>1</td>\n",
       "    </tr>\n",
       "    <tr>\n",
       "      <th>21645</th>\n",
       "      <td>16.757929</td>\n",
       "      <td>-1.540207</td>\n",
       "      <td>-1.445294</td>\n",
       "      <td>0</td>\n",
       "      <td>0</td>\n",
       "      <td>0</td>\n",
       "      <td>-1.508474</td>\n",
       "      <td>-1.346982</td>\n",
       "      <td>0</td>\n",
       "      <td>1</td>\n",
       "      <td>0</td>\n",
       "      <td>0</td>\n",
       "    </tr>\n",
       "  </tbody>\n",
       "</table>\n",
       "</div>"
      ],
      "text/plain": [
       "        Withdraw  Shops_DT   ATMs_DT  Weekday__DT  Center_DT  High_DT  \\\n",
       "7214   71.451101  0.629417  0.807052            1          1        1   \n",
       "13522  64.949936  0.546223  0.397534            1          0        0   \n",
       "18479  70.265111  0.640364  0.192776            1          0        1   \n",
       "3366   70.693183  0.655689  0.602293            1          0        1   \n",
       "21645  16.757929 -1.540207 -1.445294            0          0        0   \n",
       "\n",
       "          Shops      ATMs  Downtown  Weekday  Center  High  \n",
       "7214   0.627193  0.830934         1        1       1     1  \n",
       "13522  0.534761  0.286455         1        1       0     0  \n",
       "18479  0.639356  0.014215         1        1       0     1  \n",
       "3366   0.656382  0.558694         1        1       0     1  \n",
       "21645 -1.508474 -1.346982         0        1       0     0  "
      ]
     },
     "execution_count": 31,
     "metadata": {},
     "output_type": "execute_result"
    }
   ],
   "source": [
    "# Preprocess the data\n",
    "# 1. Separate the data into training and test data\n",
    "# 2. Fit the scaling to the training data and apply to both the train and test data \n",
    "\n",
    "# Define columns to scale\n",
    "columns_to_scale = ['ATMs', 'ATMs_DT', 'Shops','Shops_DT']\n",
    "\n",
    "# 1. Separate\n",
    "X_train, X_test, y_train, y_test = train_test_split(\n",
    "    X_new,              # Features\n",
    "    y,                  # Target variable\n",
    "    test_size=0.2,      # 20% for testing, 80% for training\n",
    "    random_state=1      # Set for reproducibility\n",
    ")\n",
    "\n",
    "train = pd.concat([y_train,X_train], axis=1)\n",
    "test = pd.concat([y_test,X_test], axis=1)\n",
    "\n",
    "# 2. Scale\n",
    "scaler = StandardScaler().fit(train[columns_to_scale]) \n",
    "\n",
    "train[columns_to_scale] = scaler.transform(train[columns_to_scale])\n",
    "test[columns_to_scale] = scaler.transform(test[columns_to_scale]) \n",
    "\n",
    "train.head()\n"
   ]
  },
  {
   "cell_type": "code",
   "execution_count": 32,
   "metadata": {},
   "outputs": [
    {
     "name": "stdout",
     "output_type": "stream",
     "text": [
      "Test MSE:  5.54078924380115\n",
      "Train MSE:  5.528847245434021\n"
     ]
    },
    {
     "data": {
      "text/html": [
       "<table class=\"simpletable\">\n",
       "<caption>OLS Regression Results</caption>\n",
       "<tr>\n",
       "  <th>Dep. Variable:</th>        <td>Withdraw</td>     <th>  R-squared:         </th> <td>   0.991</td> \n",
       "</tr>\n",
       "<tr>\n",
       "  <th>Model:</th>                   <td>OLS</td>       <th>  Adj. R-squared:    </th> <td>   0.991</td> \n",
       "</tr>\n",
       "<tr>\n",
       "  <th>Method:</th>             <td>Least Squares</td>  <th>  F-statistic:       </th> <td>1.799e+05</td>\n",
       "</tr>\n",
       "<tr>\n",
       "  <th>Date:</th>             <td>Tue, 29 Oct 2024</td> <th>  Prob (F-statistic):</th>  <td>  0.00</td>  \n",
       "</tr>\n",
       "<tr>\n",
       "  <th>Time:</th>                 <td>20:28:19</td>     <th>  Log-Likelihood:    </th> <td> -40021.</td> \n",
       "</tr>\n",
       "<tr>\n",
       "  <th>No. Observations:</th>      <td> 17600</td>      <th>  AIC:               </th> <td>8.007e+04</td>\n",
       "</tr>\n",
       "<tr>\n",
       "  <th>Df Residuals:</th>          <td> 17588</td>      <th>  BIC:               </th> <td>8.016e+04</td>\n",
       "</tr>\n",
       "<tr>\n",
       "  <th>Df Model:</th>              <td>    11</td>      <th>                     </th>     <td> </td>    \n",
       "</tr>\n",
       "<tr>\n",
       "  <th>Covariance Type:</th>      <td>nonrobust</td>    <th>                     </th>     <td> </td>    \n",
       "</tr>\n",
       "</table>\n",
       "<table class=\"simpletable\">\n",
       "<tr>\n",
       "       <td></td>          <th>coef</th>     <th>std err</th>      <th>t</th>      <th>P>|t|</th>  <th>[0.025</th>    <th>0.975]</th>  \n",
       "</tr>\n",
       "<tr>\n",
       "  <th>Intercept</th>   <td>   89.2887</td> <td>    0.871</td> <td>  102.565</td> <td> 0.000</td> <td>   87.582</td> <td>   90.995</td>\n",
       "</tr>\n",
       "<tr>\n",
       "  <th>Shops_DT</th>    <td>   42.1963</td> <td>    2.977</td> <td>   14.173</td> <td> 0.000</td> <td>   36.361</td> <td>   48.032</td>\n",
       "</tr>\n",
       "<tr>\n",
       "  <th>ATMs_DT</th>     <td>   -0.1274</td> <td>    0.162</td> <td>   -0.785</td> <td> 0.432</td> <td>   -0.445</td> <td>    0.191</td>\n",
       "</tr>\n",
       "<tr>\n",
       "  <th>Weekday__DT</th> <td>   -1.8410</td> <td>    0.086</td> <td>  -21.525</td> <td> 0.000</td> <td>   -2.009</td> <td>   -1.673</td>\n",
       "</tr>\n",
       "<tr>\n",
       "  <th>Center_DT</th>   <td>    5.2126</td> <td>    0.128</td> <td>   40.610</td> <td> 0.000</td> <td>    4.961</td> <td>    5.464</td>\n",
       "</tr>\n",
       "<tr>\n",
       "  <th>High_DT</th>     <td>   -0.1242</td> <td>    0.085</td> <td>   -1.466</td> <td> 0.143</td> <td>   -0.290</td> <td>    0.042</td>\n",
       "</tr>\n",
       "<tr>\n",
       "  <th>Shops</th>       <td>    7.6182</td> <td>    2.645</td> <td>    2.880</td> <td> 0.004</td> <td>    2.434</td> <td>   12.803</td>\n",
       "</tr>\n",
       "<tr>\n",
       "  <th>ATMs</th>        <td>   -3.6402</td> <td>    0.116</td> <td>  -31.433</td> <td> 0.000</td> <td>   -3.867</td> <td>   -3.413</td>\n",
       "</tr>\n",
       "<tr>\n",
       "  <th>Downtown</th>    <td>  -46.9708</td> <td>    1.236</td> <td>  -37.999</td> <td> 0.000</td> <td>  -49.394</td> <td>  -44.548</td>\n",
       "</tr>\n",
       "<tr>\n",
       "  <th>Weekday</th>     <td>   -2.2179</td> <td>    0.071</td> <td>  -31.043</td> <td> 0.000</td> <td>   -2.358</td> <td>   -2.078</td>\n",
       "</tr>\n",
       "<tr>\n",
       "  <th>Center</th>      <td>    3.5909</td> <td>    0.108</td> <td>   33.389</td> <td> 0.000</td> <td>    3.380</td> <td>    3.802</td>\n",
       "</tr>\n",
       "<tr>\n",
       "  <th>High</th>        <td>    1.0376</td> <td>    0.071</td> <td>   14.607</td> <td> 0.000</td> <td>    0.898</td> <td>    1.177</td>\n",
       "</tr>\n",
       "</table>\n",
       "<table class=\"simpletable\">\n",
       "<tr>\n",
       "  <th>Omnibus:</th>       <td>11022.141</td> <th>  Durbin-Watson:     </th>  <td>   2.014</td> \n",
       "</tr>\n",
       "<tr>\n",
       "  <th>Prob(Omnibus):</th>  <td> 0.000</td>   <th>  Jarque-Bera (JB):  </th> <td>213229.801</td>\n",
       "</tr>\n",
       "<tr>\n",
       "  <th>Skew:</th>           <td> 2.683</td>   <th>  Prob(JB):          </th>  <td>    0.00</td> \n",
       "</tr>\n",
       "<tr>\n",
       "  <th>Kurtosis:</th>       <td>19.185</td>   <th>  Cond. No.          </th>  <td>    476.</td> \n",
       "</tr>\n",
       "</table><br/><br/>Notes:<br/>[1] Standard Errors assume that the covariance matrix of the errors is correctly specified."
      ],
      "text/latex": [
       "\\begin{center}\n",
       "\\begin{tabular}{lclc}\n",
       "\\toprule\n",
       "\\textbf{Dep. Variable:}    &     Withdraw     & \\textbf{  R-squared:         } &     0.991   \\\\\n",
       "\\textbf{Model:}            &       OLS        & \\textbf{  Adj. R-squared:    } &     0.991   \\\\\n",
       "\\textbf{Method:}           &  Least Squares   & \\textbf{  F-statistic:       } & 1.799e+05   \\\\\n",
       "\\textbf{Date:}             & Tue, 29 Oct 2024 & \\textbf{  Prob (F-statistic):} &     0.00    \\\\\n",
       "\\textbf{Time:}             &     20:28:19     & \\textbf{  Log-Likelihood:    } &   -40021.   \\\\\n",
       "\\textbf{No. Observations:} &       17600      & \\textbf{  AIC:               } & 8.007e+04   \\\\\n",
       "\\textbf{Df Residuals:}     &       17588      & \\textbf{  BIC:               } & 8.016e+04   \\\\\n",
       "\\textbf{Df Model:}         &          11      & \\textbf{                     } &             \\\\\n",
       "\\textbf{Covariance Type:}  &    nonrobust     & \\textbf{                     } &             \\\\\n",
       "\\bottomrule\n",
       "\\end{tabular}\n",
       "\\begin{tabular}{lcccccc}\n",
       "                       & \\textbf{coef} & \\textbf{std err} & \\textbf{t} & \\textbf{P$> |$t$|$} & \\textbf{[0.025} & \\textbf{0.975]}  \\\\\n",
       "\\midrule\n",
       "\\textbf{Intercept}     &      89.2887  &        0.871     &   102.565  &         0.000        &       87.582    &       90.995     \\\\\n",
       "\\textbf{Shops\\_DT}     &      42.1963  &        2.977     &    14.173  &         0.000        &       36.361    &       48.032     \\\\\n",
       "\\textbf{ATMs\\_DT}      &      -0.1274  &        0.162     &    -0.785  &         0.432        &       -0.445    &        0.191     \\\\\n",
       "\\textbf{Weekday\\_\\_DT} &      -1.8410  &        0.086     &   -21.525  &         0.000        &       -2.009    &       -1.673     \\\\\n",
       "\\textbf{Center\\_DT}    &       5.2126  &        0.128     &    40.610  &         0.000        &        4.961    &        5.464     \\\\\n",
       "\\textbf{High\\_DT}      &      -0.1242  &        0.085     &    -1.466  &         0.143        &       -0.290    &        0.042     \\\\\n",
       "\\textbf{Shops}         &       7.6182  &        2.645     &     2.880  &         0.004        &        2.434    &       12.803     \\\\\n",
       "\\textbf{ATMs}          &      -3.6402  &        0.116     &   -31.433  &         0.000        &       -3.867    &       -3.413     \\\\\n",
       "\\textbf{Downtown}      &     -46.9708  &        1.236     &   -37.999  &         0.000        &      -49.394    &      -44.548     \\\\\n",
       "\\textbf{Weekday}       &      -2.2179  &        0.071     &   -31.043  &         0.000        &       -2.358    &       -2.078     \\\\\n",
       "\\textbf{Center}        &       3.5909  &        0.108     &    33.389  &         0.000        &        3.380    &        3.802     \\\\\n",
       "\\textbf{High}          &       1.0376  &        0.071     &    14.607  &         0.000        &        0.898    &        1.177     \\\\\n",
       "\\bottomrule\n",
       "\\end{tabular}\n",
       "\\begin{tabular}{lclc}\n",
       "\\textbf{Omnibus:}       & 11022.141 & \\textbf{  Durbin-Watson:     } &     2.014   \\\\\n",
       "\\textbf{Prob(Omnibus):} &    0.000  & \\textbf{  Jarque-Bera (JB):  } & 213229.801  \\\\\n",
       "\\textbf{Skew:}          &    2.683  & \\textbf{  Prob(JB):          } &      0.00   \\\\\n",
       "\\textbf{Kurtosis:}      &   19.185  & \\textbf{  Cond. No.          } &      476.   \\\\\n",
       "\\bottomrule\n",
       "\\end{tabular}\n",
       "%\\caption{OLS Regression Results}\n",
       "\\end{center}\n",
       "\n",
       "Notes: \\newline\n",
       " [1] Standard Errors assume that the covariance matrix of the errors is correctly specified."
      ],
      "text/plain": [
       "<class 'statsmodels.iolib.summary.Summary'>\n",
       "\"\"\"\n",
       "                            OLS Regression Results                            \n",
       "==============================================================================\n",
       "Dep. Variable:               Withdraw   R-squared:                       0.991\n",
       "Model:                            OLS   Adj. R-squared:                  0.991\n",
       "Method:                 Least Squares   F-statistic:                 1.799e+05\n",
       "Date:                Tue, 29 Oct 2024   Prob (F-statistic):               0.00\n",
       "Time:                        20:28:19   Log-Likelihood:                -40021.\n",
       "No. Observations:               17600   AIC:                         8.007e+04\n",
       "Df Residuals:                   17588   BIC:                         8.016e+04\n",
       "Df Model:                          11                                         \n",
       "Covariance Type:            nonrobust                                         \n",
       "===============================================================================\n",
       "                  coef    std err          t      P>|t|      [0.025      0.975]\n",
       "-------------------------------------------------------------------------------\n",
       "Intercept      89.2887      0.871    102.565      0.000      87.582      90.995\n",
       "Shops_DT       42.1963      2.977     14.173      0.000      36.361      48.032\n",
       "ATMs_DT        -0.1274      0.162     -0.785      0.432      -0.445       0.191\n",
       "Weekday__DT    -1.8410      0.086    -21.525      0.000      -2.009      -1.673\n",
       "Center_DT       5.2126      0.128     40.610      0.000       4.961       5.464\n",
       "High_DT        -0.1242      0.085     -1.466      0.143      -0.290       0.042\n",
       "Shops           7.6182      2.645      2.880      0.004       2.434      12.803\n",
       "ATMs           -3.6402      0.116    -31.433      0.000      -3.867      -3.413\n",
       "Downtown      -46.9708      1.236    -37.999      0.000     -49.394     -44.548\n",
       "Weekday        -2.2179      0.071    -31.043      0.000      -2.358      -2.078\n",
       "Center          3.5909      0.108     33.389      0.000       3.380       3.802\n",
       "High            1.0376      0.071     14.607      0.000       0.898       1.177\n",
       "==============================================================================\n",
       "Omnibus:                    11022.141   Durbin-Watson:                   2.014\n",
       "Prob(Omnibus):                  0.000   Jarque-Bera (JB):           213229.801\n",
       "Skew:                           2.683   Prob(JB):                         0.00\n",
       "Kurtosis:                      19.185   Cond. No.                         476.\n",
       "==============================================================================\n",
       "\n",
       "Notes:\n",
       "[1] Standard Errors assume that the covariance matrix of the errors is correctly specified.\n",
       "\"\"\""
      ]
     },
     "execution_count": 32,
     "metadata": {},
     "output_type": "execute_result"
    }
   ],
   "source": [
    "# 3. Model\n",
    "formula = f'Withdraw ~ {\" + \".join(X_train.columns)}'  \n",
    "\n",
    "model = ols(formula, data=train).fit()\n",
    "print(\"Test MSE: \", comp_mse(model, test))\n",
    "print(\"Train MSE: \", comp_mse(model, train)) \n",
    "model.summary()"
   ]
  },
  {
   "cell_type": "markdown",
   "metadata": {},
   "source": [
    "Note: the MSE is already lower!\n",
    "\n",
    "Looking at the p values, we should exclude variables `ATMs_DT` and `High_DT` from the model.\n"
   ]
  },
  {
   "cell_type": "markdown",
   "metadata": {},
   "source": [
    "## Best Subset selection!\n",
    "\n",
    "AIC, BIC, test MSE all used. An interesting feature might be to change the train test split."
   ]
  },
  {
   "cell_type": "code",
   "execution_count": 33,
   "metadata": {},
   "outputs": [
    {
     "name": "stdout",
     "output_type": "stream",
     "text": [
      "Best subset selection took 2048 iterations and 52.81 seconds. Best model based on each statistic is as follows (includes intercept):\n",
      "AIC=80064.89 with 11 parameters:\n",
      " Withdraw ~ Shops_DT + Weekday__DT + Center_DT + High_DT + Shops + ATMs + Downtown + Weekday + Center + High\n",
      "\n",
      "BIC=80141.20 with 9 parameters:\n",
      " Withdraw ~ Shops_DT + Weekday__DT + Center_DT + ATMs + Downtown + Weekday + Center + High\n",
      "\n",
      "test MSE: 5.54 has 10 parameters:\n",
      " Withdraw ~ Shops_DT + Weekday__DT + Center_DT + Shops + ATMs + Downtown + Weekday + Center + High\n"
     ]
    }
   ],
   "source": [
    "# Initialize lists to store metrics\n",
    "aic = []\n",
    "bic = []\n",
    "p = []\n",
    "test_mse = []\n",
    "\n",
    "# Start time measurement\n",
    "start_time = time.time()\n",
    "\n",
    "count = 1\n",
    "\n",
    "# Null model with just the intercept\n",
    "formula = 'Withdraw ~ 1'\n",
    "model = ols(formula, data=train).fit()\n",
    "aic.append(model.aic)\n",
    "bic.append(model.bic)\n",
    "test_mse.append(comp_mse(model, test))\n",
    "p.append(1)\n",
    "\n",
    "# Initialize best metrics with the null model\n",
    "best_aic = model.aic\n",
    "best_bic = model.bic\n",
    "best_model_aic = formula\n",
    "best_model_bic = formula\n",
    "best_p_aic = 1\n",
    "best_p_bic = 1\n",
    "best_test_mse = test_mse[-1]\n",
    "best_model_test_mse = formula\n",
    "\n",
    "# Iterate over all combinations of predictors\n",
    "for i in range(1, len(X_train.columns) + 1):\n",
    "\n",
    "    # Reintialise best_train_mse for each i\n",
    "    best_train_mse = np.inf \n",
    "\n",
    "    for combo in itertools.combinations(X_train.columns, i):\n",
    "        # Create the model formula\n",
    "        formula = f'Withdraw ~ {\" + \".join(combo)}'\n",
    "        model = ols(formula, data=train).fit()\n",
    "        train_mse = comp_mse(model, train)\n",
    "\n",
    "        # Store the AIC, BIC, and number of parameters using append\n",
    "        aic.append(model.aic)\n",
    "        bic.append(model.bic)\n",
    "        p.append(i + 1)\n",
    "        \n",
    "        # Update best AIC model if current model is better\n",
    "        if model.aic < best_aic:\n",
    "            best_model_aic = formula\n",
    "            best_aic = model.aic\n",
    "            best_p_aic = i + 1 \n",
    "        \n",
    "        # Update best BIC model if current model is better\n",
    "        if model.bic < best_bic:\n",
    "            best_model_bic = formula\n",
    "            best_bic = model.bic\n",
    "            best_p_bic = i + 1 \n",
    "\n",
    "        count += 1\n",
    "\n",
    "        #use train MSE to select the best set for a given number of predictors i\n",
    "        if train_mse < best_train_mse:\n",
    "            best_model_train_mse = formula\n",
    "            best_model_fit_train_mse = model\n",
    "            best_train_mse = train_mse\n",
    "\n",
    "    # once the best set was found for given i compute test mse\n",
    "    test_mse.append(comp_mse(best_model_fit_train_mse, test))\n",
    "\n",
    "    # Update best model based on test_mse if current model is better\n",
    "    if test_mse[-1] < best_test_mse:\n",
    "        best_model_test_mse = best_model_train_mse\n",
    "        best_test_mse = test_mse[-1]\n",
    "        best_p_test = i + 1\n",
    "\n",
    "    end_time = time.time()\n",
    "    elapsed_time = end_time - start_time\n",
    "\n",
    "# Output the best model\n",
    "print(f\"Best subset selection took {count} iterations and {elapsed_time:.2f} seconds. Best model based on each statistic is as follows (includes intercept):\")\n",
    "print(f\"AIC={best_aic:.2f} with {best_p_aic} parameters:\\n {best_model_aic}\\n\")\n",
    "print(f\"BIC={best_bic:.2f} with {best_p_bic} parameters:\\n {best_model_bic}\\n\") \n",
    "print(f\"test MSE: {best_test_mse:.2f} has {best_p_test} parameters:\\n {best_model_test_mse}\")"
   ]
  },
  {
   "cell_type": "code",
   "execution_count": 34,
   "metadata": {},
   "outputs": [
    {
     "data": {
      "text/plain": [
       "<Axes: >"
      ]
     },
     "execution_count": 34,
     "metadata": {},
     "output_type": "execute_result"
    },
    {
     "data": {
      "image/png": "[encoded data removed]",
      "text/plain": [
       "<Figure size 640x480 with 1 Axes>"
      ]
     },
     "metadata": {},
     "output_type": "display_data"
    }
   ],
   "source": [
    "sns.scatterplot(x=p, y=aic)\n",
    "sns.scatterplot(x=[best_p_aic], y=[best_aic]) # note here we plot just one point, but we need to pass is as list, hence the []"
   ]
  },
  {
   "cell_type": "code",
   "execution_count": 35,
   "metadata": {},
   "outputs": [
    {
     "data": {
      "text/plain": [
       "<Axes: >"
      ]
     },
     "execution_count": 35,
     "metadata": {},
     "output_type": "execute_result"
    },
    {
     "data": {
      "image/png": "[encoded data removed]",
      "text/plain": [
       "<Figure size 640x480 with 1 Axes>"
      ]
     },
     "metadata": {},
     "output_type": "display_data"
    }
   ],
   "source": [
    "sns.scatterplot(x=p, y=bic)\n",
    "sns.scatterplot(x=[best_p_bic], y=[best_bic]) # note here we plot just one point, but we need to pass is as list, hence the []"
   ]
  },
  {
   "cell_type": "code",
   "execution_count": 36,
   "metadata": {},
   "outputs": [
    {
     "data": {
      "text/plain": [
       "<Axes: >"
      ]
     },
     "execution_count": 36,
     "metadata": {},
     "output_type": "execute_result"
    },
    {
     "data": {
      "image/png": "[encoded data removed]",
      "text/plain": [
       "<Figure size 640x480 with 1 Axes>"
      ]
     },
     "metadata": {},
     "output_type": "display_data"
    }
   ],
   "source": [
    "sns.scatterplot(x=range(1+1, len(train.columns) + 1),y=test_mse[1:])\n",
    "sns.scatterplot(x=[best_p_test], y=[best_test_mse]) # note here we plot just one point, but we need to pass is as list, hence the []"
   ]
  },
  {
   "cell_type": "code",
   "execution_count": 37,
   "metadata": {},
   "outputs": [
    {
     "name": "stdout",
     "output_type": "stream",
     "text": [
      "Test MSE:  5.539436110324526\n",
      "Train MSE:  5.5297063672162485\n"
     ]
    }
   ],
   "source": [
    "# 3. AIC Best Model\n",
    "formula = \"Withdraw ~ Shops_DT + Weekday__DT + Center_DT + Shops + ATMs + Downtown + Weekday + Center + High\"\n",
    "\n",
    "model = ols(formula, data=train).fit()\n",
    "print(\"Test MSE: \", comp_mse(model, test))\n",
    "print(\"Train MSE: \", comp_mse(model, train)) \n",
    "# model.summary()"
   ]
  },
  {
   "cell_type": "code",
   "execution_count": 38,
   "metadata": {},
   "outputs": [
    {
     "name": "stdout",
     "output_type": "stream",
     "text": [
      "Test MSE:  5.541725579197457\n",
      "Train MSE:  5.532288420642375\n"
     ]
    }
   ],
   "source": [
    "# BIC Best Model\n",
    "formula = \"Withdraw ~ Shops_DT + Weekday__DT + Center_DT + ATMs + Downtown + Weekday + Center + High\"\n",
    "model = ols(formula, data=train).fit()\n",
    "print(\"Test MSE: \", comp_mse(model, test))\n",
    "print(\"Train MSE: \", comp_mse(model, train)) \n",
    "# model.summary()"
   ]
  },
  {
   "cell_type": "code",
   "execution_count": 39,
   "metadata": {},
   "outputs": [
    {
     "name": "stdout",
     "output_type": "stream",
     "text": [
      "Test MSE:  5.540336098006683\n",
      "Train MSE:  5.5290411111444175\n"
     ]
    }
   ],
   "source": [
    "# Train MSE Best Model\n",
    "formula = \"Withdraw ~ Shops_DT + Weekday__DT + Center_DT + High_DT + Shops + ATMs + Downtown + Weekday + Center + High\"\n",
    "model = ols(formula, data=train).fit()\n",
    "print(\"Test MSE: \", comp_mse(model, test))\n",
    "print(\"Train MSE: \", comp_mse(model, train)) \n",
    "# model.summary()"
   ]
  },
  {
   "cell_type": "markdown",
   "metadata": {},
   "source": [
    "Doing some manual cross validation checking to assess if doing cross validation is necessary"
   ]
  },
  {
   "cell_type": "code",
   "execution_count": 45,
   "metadata": {},
   "outputs": [
    {
     "name": "stdout",
     "output_type": "stream",
     "text": [
      "AIC: \n",
      "Mean : 5.588408004865069\n",
      "Max: 6.151619207276769\n",
      "Min: 5.0915533917555695\n"
     ]
    }
   ],
   "source": [
    "test_mse = []\n",
    "\n",
    "for i in range(1,21):\n",
    "    columns_to_scale = ['ATMs', 'ATMs_DT', 'Shops','Shops_DT']\n",
    "\n",
    "    # 1. Separate\n",
    "    X_train, X_test, y_train, y_test = train_test_split(\n",
    "        X_new,              # Features\n",
    "        y,                  # Target variable\n",
    "        test_size=0.2,      # 20% for testing, 80% for training\n",
    "        random_state=i      # Set for reproducibility\n",
    "    )\n",
    "\n",
    "    train = pd.concat([y_train,X_train], axis=1)\n",
    "    test = pd.concat([y_test,X_test], axis=1)\n",
    "\n",
    "    # 2. Scale\n",
    "    scaler = StandardScaler().fit(train[columns_to_scale]) \n",
    "\n",
    "    train[columns_to_scale] = scaler.transform(train[columns_to_scale])\n",
    "    test[columns_to_scale] = scaler.transform(test[columns_to_scale]) \n",
    "    \n",
    "    # AIC \n",
    "    formula = \"Withdraw ~ Shops_DT + Weekday__DT + Center_DT + Shops + ATMs + Downtown + Weekday + Center + High\"\n",
    "\n",
    "    # BIC\n",
    "    #formula = \"Withdraw ~ Shops_DT + Weekday__DT + Center_DT + ATMs + Downtown + Weekday + Center + High\"\n",
    "    model = ols(formula, data=train).fit()\n",
    "    test_mse.append(comp_mse(model, test)) \n",
    "\n",
    "print(\"AIC: \")   \n",
    "print(f\"Mean : {statistics.mean(test_mse)}\")\n",
    "print(f\"Max: {max(test_mse)}\")\n",
    "print(f\"Min: {min(test_mse)}\")"
   ]
  },
  {
   "cell_type": "code",
   "execution_count": 46,
   "metadata": {},
   "outputs": [
    {
     "name": "stdout",
     "output_type": "stream",
     "text": [
      "BIC: \n",
      "Mean : 5.590939972385697\n",
      "Max: 6.154014003076197\n",
      "Min: 5.093616448278345\n"
     ]
    }
   ],
   "source": [
    "test_mse = []\n",
    "\n",
    "for i in range(1,21):\n",
    "    columns_to_scale = ['ATMs', 'ATMs_DT', 'Shops','Shops_DT']\n",
    "\n",
    "    # 1. Separate\n",
    "    X_train, X_test, y_train, y_test = train_test_split(\n",
    "        X_new,              # Features\n",
    "        y,                  # Target variable\n",
    "        test_size=0.2,      # 20% for testing, 80% for training\n",
    "        random_state=i      # Set for reproducibility\n",
    "    )\n",
    "\n",
    "    train = pd.concat([y_train,X_train], axis=1)\n",
    "    test = pd.concat([y_test,X_test], axis=1)\n",
    "\n",
    "    # 2. Scale\n",
    "    scaler = StandardScaler().fit(train[columns_to_scale]) \n",
    "\n",
    "    train[columns_to_scale] = scaler.transform(train[columns_to_scale])\n",
    "    test[columns_to_scale] = scaler.transform(test[columns_to_scale]) \n",
    "    \n",
    "    # AIC \n",
    "    #formula = \"Withdraw ~ Shops_DT + Weekday__DT + Center_DT + Shops + ATMs + Downtown + Weekday + Center + High\"\n",
    "\n",
    "    # BIC\n",
    "    formula = \"Withdraw ~ Shops_DT + Weekday__DT + Center_DT + ATMs + Downtown + Weekday + Center + High\"\n",
    "    model = ols(formula, data=train).fit()\n",
    "    test_mse.append(comp_mse(model, test)) \n",
    "\n",
    "print(\"BIC: \")\n",
    "print(f\"Mean : {statistics.mean(test_mse)}\")\n",
    "print(f\"Max: {max(test_mse)}\")\n",
    "print(f\"Min: {min(test_mse)}\")"
   ]
  },
  {
   "cell_type": "markdown",
   "metadata": {},
   "source": [
    "From these, we can see that it is a pretty stable result, thus, I don't think it is necessary to perform cross validation on the model selection. "
   ]
  }
 ],
 "metadata": {
  "kernelspec": {
   "display_name": "base",
   "language": "python",
   "name": "python3"
  },
  "language_info": {
   "codemirror_mode": {
    "name": "ipython",
    "version": 3
   },
   "file_extension": ".py",
   "mimetype": "text/x-python",
   "name": "python",
   "nbconvert_exporter": "python",
   "pygments_lexer": "ipython3",
   "version": "3.12.4"
  }
 },
 "nbformat": 4,
 "nbformat_minor": 2
}
